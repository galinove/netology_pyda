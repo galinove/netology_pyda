{
 "cells": [
  {
   "cell_type": "markdown",
   "metadata": {},
   "source": [
    "# Задача 1"
   ]
  },
  {
   "cell_type": "code",
   "execution_count": 6,
   "metadata": {},
   "outputs": [],
   "source": [
    "string_01 = \"Mama, just killed a man, put a gun against his head, pulled my trigger, now he's dead. Mama, life had just begun, but now I've gone and thrown it all away. Mama, ooh (any way the wind blows), didn't mean to make you cry. If I'm not back again this time tomorrow carry on, carry on as if nothing really matters.\""
   ]
  },
  {
   "cell_type": "code",
   "execution_count": 11,
   "metadata": {},
   "outputs": [
    {
     "data": {
      "text/plain": [
       "250"
      ]
     },
     "execution_count": 11,
     "metadata": {},
     "output_type": "execute_result"
    }
   ],
   "source": [
    "#Посчитайте, сколько в строке символов (исключая пробелы)\n",
    "len(string_01.replace(' ',''))"
   ]
  },
  {
   "cell_type": "code",
   "execution_count": 14,
   "metadata": {},
   "outputs": [
    {
     "data": {
      "text/plain": [
       "61"
      ]
     },
     "execution_count": 14,
     "metadata": {},
     "output_type": "execute_result"
    }
   ],
   "source": [
    "#Посчитайте, сколько в строке слов\n",
    "len(string_01) - len(string_01.replace(' ',''))+1"
   ]
  },
  {
   "cell_type": "code",
   "execution_count": 36,
   "metadata": {},
   "outputs": [
    {
     "data": {
      "text/plain": [
       "['his', \"he's\", 'blows', 'this', 'as', 'matters']"
      ]
     },
     "execution_count": 36,
     "metadata": {},
     "output_type": "execute_result"
    }
   ],
   "source": [
    "#Напишите функцию, которая будет принимать в качестве аргумента букву и выводить все слова из строки, \n",
    "#заканчивающиеся на эту букву (например, “s”)\n",
    "def words_ends_with_symbol(string, symbol):\n",
    "    substr = []\n",
    "    words = string.replace(',','').replace('.','').replace(')','').replace('!','').replace('(','').split(' ')\n",
    "    for word in words:\n",
    "        if word[len(word)-1]==symbol:\n",
    "            substr.append(word)\n",
    "    return substr\n",
    "        \n",
    "words_ends_with_symbol(string_01,'s')"
   ]
  },
  {
   "cell_type": "code",
   "execution_count": 40,
   "metadata": {},
   "outputs": [
    {
     "data": {
      "text/plain": [
       "['man', 'my', 'mean', 'make', 'matters']"
      ]
     },
     "execution_count": 40,
     "metadata": {},
     "output_type": "execute_result"
    }
   ],
   "source": [
    "#Не обязательно: Напишите функцию, которая будет принимать в качестве аргумента букву и выводить\n",
    "#все слова из строки, начинающиеся на эту букву (например, “m”)\n",
    "def words_starts_with_symbol(string, symbol):\n",
    "    substr = []\n",
    "    words = string.replace(',','').replace('.','').replace(')','').replace('!','').replace('(','').split(' ')\n",
    "    for word in words:\n",
    "        if word[0]==symbol:\n",
    "            substr.append(word)\n",
    "    return substr\n",
    "        \n",
    "words_starts_with_symbol(string_01,'m')"
   ]
  },
  {
   "cell_type": "markdown",
   "metadata": {},
   "source": [
    "# Задача 2 \n",
    "Напишите код, который будет генерировать случайную последовательность из 6 цифр, одна из которых должна быть 3. Позиция цифры 3 должна определяться случайным образом. Результат должен быть строкой. Например: \"456309\" или \"330127\""
   ]
  },
  {
   "cell_type": "code",
   "execution_count": 77,
   "metadata": {},
   "outputs": [
    {
     "data": {
      "text/plain": [
       "'378963'"
      ]
     },
     "execution_count": 77,
     "metadata": {},
     "output_type": "execute_result"
    }
   ],
   "source": [
    "def random6():\n",
    "    import random\n",
    "    x = str(random.randint(100000, 999999))\n",
    "    pos3 = random.randint(1,6)\n",
    "    x = x[:(pos3-1)]+'3'+x[(pos3):6]\n",
    "    return x\n",
    "\n",
    "random6()"
   ]
  },
  {
   "cell_type": "markdown",
   "metadata": {},
   "source": [
    "# Задача 3"
   ]
  },
  {
   "cell_type": "code",
   "execution_count": 85,
   "metadata": {},
   "outputs": [
    {
     "name": "stdout",
     "output_type": "stream",
     "text": [
      "212\n"
     ]
    }
   ],
   "source": [
    "#Напишите алгоритм, который выводит сумму элементов списка, которые больше 10, но меньше 100\n",
    "list_01 = [1, 1, 2, 3, 5, 8, 13, 21, 34, 55, 89, 144, 233, 377, 610]\n",
    "list_02=[]\n",
    "for el in list_01:\n",
    "    if el>10 and el<100:\n",
    "        list_02.append(el)\n",
    "print(sum(list_02))"
   ]
  },
  {
   "cell_type": "markdown",
   "metadata": {},
   "source": [
    "# Задача 4"
   ]
  },
  {
   "cell_type": "code",
   "execution_count": 125,
   "metadata": {},
   "outputs": [
    {
     "name": "stdout",
     "output_type": "stream",
     "text": [
      "[['0001', 'Антонов', 'Антон', 'Игоревич', '20.08.2009', 'БСТ161'], ['1102', 'Богов', 'Артем', 'Игоревич', '25.01.2010', 'БСТ162'], ['0333', 'Глаголева', 'Анастасия', 'Николаевна', '11.07.2009', 'БСТ163'], ['4004', 'Степанова', 'Наталья', 'Александровна', '13.02.2008', 'БСТ161'], ['0045', 'Боков', 'Игорь', 'Харитонович', '02.06.2009', 'БСТ161'], ['0096', 'Васильков', 'Валентин', 'Сергеевич', '20.03.2009', 'БСТ164'], ['0607', 'Сиропова', 'Виолетта', 'Эдуардовна', '28.05.2010', 'БСТ162'], ['0309', 'Шафутинский', 'Михаил', 'Михайлович', '03.09.2007', 'БСТ163']]\n"
     ]
    },
    {
     "data": {
      "text/plain": [
       "{'0001': ['Антонов', 'Антон', 'Игоревич', '20.08.2009', 'БСТ161'],\n",
       " '1102': ['Богов', 'Артем', 'Игоревич', '25.01.2010', 'БСТ162'],\n",
       " '0333': ['Глаголева', 'Анастасия', 'Николаевна', '11.07.2009', 'БСТ163'],\n",
       " '4004': ['Степанова', 'Наталья', 'Александровна', '13.02.2008', 'БСТ161'],\n",
       " '0045': ['Боков', 'Игорь', 'Харитонович', '02.06.2009', 'БСТ161'],\n",
       " '0096': ['Васильков', 'Валентин', 'Сергеевич', '20.03.2009', 'БСТ164'],\n",
       " '0607': ['Сиропова', 'Виолетта', 'Эдуардовна', '28.05.2010', 'БСТ162'],\n",
       " '0309': ['Шафутинский', 'Михаил', 'Михайлович', '03.09.2007', 'БСТ163']}"
      ]
     },
     "execution_count": 125,
     "metadata": {},
     "output_type": "execute_result"
    }
   ],
   "source": [
    "students = [     [\"0001\", \"Антонов\", \"Антон\", \"Игоревич\", \"20.08.2009\", \"БСТ161\"],     [\"1102\", \"Богов\", \"Артем\", \"Игоревич\", \"25.01.2010\", \"БСТ162\"],     [\"0333\", \"Глаголева\", \"Анастасия\", \"Николаевна\", \"11.07.2009\", \"БСТ163\"],     [\"4004\", \"Степанова\", \"Наталья\", \"Александровна\", \"13.02.2008\", \"БСТ161\"],     [\"0045\", \"Боков\", \"Игорь\", \"Харитонович\", \"02.06.2009\", \"БСТ161\"],     [\"0096\", \"Васильков\", \"Валентин\", \"Сергеевич\", \"20.03.2009\", \"БСТ164\"],     [\"0607\", \"Сиропова\", \"Виолетта\", \"Эдуардовна\", \"28.05.2010\", \"БСТ162\"],     [\"0309\", \"Шафутинский\", \"Михаил\", \"Михайлович\", \"03.09.2007\", \"БСТ163\"]]\n",
    "print(students)\n",
    "stud_dict={}\n",
    "for student in students:\n",
    "    stud_dict[student[0]]=student[1:len(student)]\n",
    "stud_dict"
   ]
  },
  {
   "cell_type": "code",
   "execution_count": 126,
   "metadata": {},
   "outputs": [
    {
     "data": {
      "text/plain": [
       "['Антонов', 'Антон', 'Игоревич', '20.08.2009', 'HELLO']"
      ]
     },
     "execution_count": 126,
     "metadata": {},
     "output_type": "execute_result"
    }
   ],
   "source": [
    "#Напишите функцию, которая принимает в качестве аргумента \n",
    "#номер студента и новый номер группы и позволяет изменить номер группы этого студента на новый.\n",
    "def student_trans(stud_dict,id, new_group):\n",
    "    stud_dict[id][len(stud_dict[id])-1] = new_group\n",
    "    return stud_dict[id]\n",
    "\n",
    "student_trans(stud_dict, '0001','HELLO')"
   ]
  },
  {
   "cell_type": "code",
   "execution_count": 135,
   "metadata": {},
   "outputs": [
    {
     "data": {
      "text/plain": [
       "{'0333': ['Глаголева', 'Анастасия', 'Николаевна', '11.07.2009', 'БСТ163'],\n",
       " '0309': ['Шафутинский', 'Михаил', 'Михайлович', '03.09.2007', 'БСТ163']}"
      ]
     },
     "execution_count": 135,
     "metadata": {},
     "output_type": "execute_result"
    }
   ],
   "source": [
    "#Напишите функцию, которая принимает номер группы и выводит список (фамилии, имена, отчества) всех студентов этой группы.\n",
    "def group_list(stud_dict,group):\n",
    "    group_dict={}\n",
    "    for stud_id in stud_dict:\n",
    "        if stud_dict[stud_id][len(stud_dict[stud_id])-1] == group:\n",
    "            group_dict[stud_id]=stud_dict[stud_id]\n",
    "    return group_dict\n",
    "\n",
    "group_list(stud_dict,'БСТ163')\n",
    "    "
   ]
  },
  {
   "cell_type": "markdown",
   "metadata": {},
   "source": [
    "# Задача 5\n",
    "1. Выведите результат сложения всех элементов матрицы.\n",
    "\n",
    "2.Напишите алгоритм вычисления максимума из сумм элементов каждого столбца."
   ]
  },
  {
   "cell_type": "code",
   "execution_count": 180,
   "metadata": {},
   "outputs": [
    {
     "name": "stdout",
     "output_type": "stream",
     "text": [
      "89\n",
      "22\n"
     ]
    }
   ],
   "source": [
    "matrix = [ [0, 1, 2, 4, 8], [6, 2, 2, 1, 9], [3, 3, 3, 3, 3], [4, 6, 7, 1, 2], [5, 7, 3, 4, 0] ]\n",
    "\n",
    "import numpy as np\n",
    "m1 = np.array(matrix)\n",
    "\n",
    "print(sum(sum(m1))) #результат сложения всех элементов матрицы\n",
    "print(max(sum(m1))) #вычислениt максимума из сумм элементов каждого столбца"
   ]
  }
 ],
 "metadata": {
  "kernelspec": {
   "display_name": "Python 3",
   "language": "python",
   "name": "python3"
  },
  "language_info": {
   "codemirror_mode": {
    "name": "ipython",
    "version": 3
   },
   "file_extension": ".py",
   "mimetype": "text/x-python",
   "name": "python",
   "nbconvert_exporter": "python",
   "pygments_lexer": "ipython3",
   "version": "3.7.3"
  }
 },
 "nbformat": 4,
 "nbformat_minor": 2
}
