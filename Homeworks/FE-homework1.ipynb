{
 "cells": [
  {
   "cell_type": "code",
   "execution_count": 1,
   "metadata": {},
   "outputs": [],
   "source": [
    "import numpy as np\n",
    "import pandas as pd\n",
    "\n",
    "from sklearn.linear_model import LinearRegression"
   ]
  },
  {
   "cell_type": "code",
   "execution_count": 11,
   "metadata": {},
   "outputs": [
    {
     "data": {
      "text/html": [
       "<div>\n",
       "<style scoped>\n",
       "    .dataframe tbody tr th:only-of-type {\n",
       "        vertical-align: middle;\n",
       "    }\n",
       "\n",
       "    .dataframe tbody tr th {\n",
       "        vertical-align: top;\n",
       "    }\n",
       "\n",
       "    .dataframe thead th {\n",
       "        text-align: right;\n",
       "    }\n",
       "</style>\n",
       "<table border=\"1\" class=\"dataframe\">\n",
       "  <thead>\n",
       "    <tr style=\"text-align: right;\">\n",
       "      <th></th>\n",
       "      <th>moto_price</th>\n",
       "      <th>driver_intelligence</th>\n",
       "      <th>driver_look</th>\n",
       "      <th>girls_like</th>\n",
       "    </tr>\n",
       "  </thead>\n",
       "  <tbody>\n",
       "    <tr>\n",
       "      <th>0</th>\n",
       "      <td>99495</td>\n",
       "      <td>0.33</td>\n",
       "      <td>0.90</td>\n",
       "      <td>0.942554</td>\n",
       "    </tr>\n",
       "    <tr>\n",
       "      <th>1</th>\n",
       "      <td>42968</td>\n",
       "      <td>0.33</td>\n",
       "      <td>0.62</td>\n",
       "      <td>0.522715</td>\n",
       "    </tr>\n",
       "    <tr>\n",
       "      <th>2</th>\n",
       "      <td>73847</td>\n",
       "      <td>0.50</td>\n",
       "      <td>0.80</td>\n",
       "      <td>0.765583</td>\n",
       "    </tr>\n",
       "    <tr>\n",
       "      <th>3</th>\n",
       "      <td>19571</td>\n",
       "      <td>0.33</td>\n",
       "      <td>0.98</td>\n",
       "      <td>0.586887</td>\n",
       "    </tr>\n",
       "    <tr>\n",
       "      <th>4</th>\n",
       "      <td>57821</td>\n",
       "      <td>0.97</td>\n",
       "      <td>0.85</td>\n",
       "      <td>0.711245</td>\n",
       "    </tr>\n",
       "  </tbody>\n",
       "</table>\n",
       "</div>"
      ],
      "text/plain": [
       "   moto_price  driver_intelligence  driver_look  girls_like\n",
       "0       99495                 0.33         0.90    0.942554\n",
       "1       42968                 0.33         0.62    0.522715\n",
       "2       73847                 0.50         0.80    0.765583\n",
       "3       19571                 0.33         0.98    0.586887\n",
       "4       57821                 0.97         0.85    0.711245"
      ]
     },
     "execution_count": 11,
     "metadata": {},
     "output_type": "execute_result"
    }
   ],
   "source": [
    "# Создаём сэмпл\n",
    "n_samples = 5000\n",
    "\n",
    "moto_price = np.random.choice(100000, n_samples) + 1000\n",
    "moto_price_norm = moto_price/moto_price.max()\n",
    "driver_intelligence = np.random.choice(100, n_samples)/100\n",
    "driver_look = np.random.choice(100, n_samples)/100\n",
    "\n",
    "\n",
    "girls_like = driver_look * 0.5 + moto_price_norm * 0.5\n",
    "\n",
    "data = pd.DataFrame({'moto_price': moto_price, 'driver_intelligence': driver_intelligence,\n",
    "                     'driver_look': driver_look, 'girls_like': girls_like})\n",
    "data.head(5)"
   ]
  },
  {
   "cell_type": "code",
   "execution_count": 12,
   "metadata": {},
   "outputs": [
    {
     "name": "stdout",
     "output_type": "stream",
     "text": [
      "Weights: [4.95054406e-06 5.11491710e-17 5.00000000e-01]\n",
      "Bias: 3.873568132917171e-13\n",
      "Error: 1.9066601804340611e-13\n"
     ]
    }
   ],
   "source": [
    "from sklearn.metrics import mean_absolute_error\n",
    "\n",
    "X = data[['moto_price', 'driver_intelligence', 'driver_look']]\n",
    "y = data['girls_like']\n",
    "reg = LinearRegression().fit(X, y)\n",
    "print('Weights: {}'.format(reg.coef_))\n",
    "print('Bias: {}'.format(reg.intercept_))\n",
    "\n",
    "pred_values = reg.predict(data[['moto_price', 'driver_intelligence', 'driver_look']])\n",
    "print('Error: {}'.format(mean_absolute_error(pred_values, y)))"
   ]
  },
  {
   "cell_type": "markdown",
   "metadata": {},
   "source": [
    "Получилось интересно, вес лишней фичи модель почти занулила, а веса значимых фич воспроизвела с высокой точностью.\n",
    "Вероятно, ошибка получилась минимальной (по сравнению с примером с лекции) из-за того, что в лекции новая фича создается мультипликативно, а я сделал аддиктивно.\n",
    "Попробуем поменять."
   ]
  },
  {
   "cell_type": "code",
   "execution_count": 21,
   "metadata": {},
   "outputs": [
    {
     "data": {
      "text/html": [
       "<div>\n",
       "<style scoped>\n",
       "    .dataframe tbody tr th:only-of-type {\n",
       "        vertical-align: middle;\n",
       "    }\n",
       "\n",
       "    .dataframe tbody tr th {\n",
       "        vertical-align: top;\n",
       "    }\n",
       "\n",
       "    .dataframe thead th {\n",
       "        text-align: right;\n",
       "    }\n",
       "</style>\n",
       "<table border=\"1\" class=\"dataframe\">\n",
       "  <thead>\n",
       "    <tr style=\"text-align: right;\">\n",
       "      <th></th>\n",
       "      <th>moto_price</th>\n",
       "      <th>driver_intelligence</th>\n",
       "      <th>driver_look</th>\n",
       "      <th>girls_like</th>\n",
       "      <th>girls_like_even_more</th>\n",
       "    </tr>\n",
       "  </thead>\n",
       "  <tbody>\n",
       "    <tr>\n",
       "      <th>0</th>\n",
       "      <td>99495</td>\n",
       "      <td>0.33</td>\n",
       "      <td>0.90</td>\n",
       "      <td>0.942554</td>\n",
       "      <td>0.886598</td>\n",
       "    </tr>\n",
       "    <tr>\n",
       "      <th>1</th>\n",
       "      <td>42968</td>\n",
       "      <td>0.33</td>\n",
       "      <td>0.62</td>\n",
       "      <td>0.522715</td>\n",
       "      <td>0.263767</td>\n",
       "    </tr>\n",
       "    <tr>\n",
       "      <th>2</th>\n",
       "      <td>73847</td>\n",
       "      <td>0.50</td>\n",
       "      <td>0.80</td>\n",
       "      <td>0.765583</td>\n",
       "      <td>0.584933</td>\n",
       "    </tr>\n",
       "    <tr>\n",
       "      <th>3</th>\n",
       "      <td>19571</td>\n",
       "      <td>0.33</td>\n",
       "      <td>0.98</td>\n",
       "      <td>0.586887</td>\n",
       "      <td>0.189899</td>\n",
       "    </tr>\n",
       "    <tr>\n",
       "      <th>4</th>\n",
       "      <td>57821</td>\n",
       "      <td>0.97</td>\n",
       "      <td>0.85</td>\n",
       "      <td>0.711245</td>\n",
       "      <td>0.486617</td>\n",
       "    </tr>\n",
       "  </tbody>\n",
       "</table>\n",
       "</div>"
      ],
      "text/plain": [
       "   moto_price  driver_intelligence  driver_look  girls_like  \\\n",
       "0       99495                 0.33         0.90    0.942554   \n",
       "1       42968                 0.33         0.62    0.522715   \n",
       "2       73847                 0.50         0.80    0.765583   \n",
       "3       19571                 0.33         0.98    0.586887   \n",
       "4       57821                 0.97         0.85    0.711245   \n",
       "\n",
       "   girls_like_even_more  \n",
       "0              0.886598  \n",
       "1              0.263767  \n",
       "2              0.584933  \n",
       "3              0.189899  \n",
       "4              0.486617  "
      ]
     },
     "execution_count": 21,
     "metadata": {},
     "output_type": "execute_result"
    }
   ],
   "source": [
    "data['girls_like_even_more'] = data['driver_look'] * data['moto_price']/data['moto_price'].max()\n",
    "data.head(5)"
   ]
  },
  {
   "cell_type": "code",
   "execution_count": 22,
   "metadata": {},
   "outputs": [
    {
     "name": "stdout",
     "output_type": "stream",
     "text": [
      "Weights: [4.88405815e-06 2.01119830e-03 5.05418716e-01]\n",
      "Bias: -0.2516101088936207\n",
      "Error: 0.06282967930657257\n"
     ]
    }
   ],
   "source": [
    "X = data[['moto_price', 'driver_intelligence', 'driver_look']]\n",
    "y = data['girls_like_even_more']\n",
    "reg = LinearRegression().fit(X, y)\n",
    "print('Weights: {}'.format(reg.coef_))\n",
    "print('Bias: {}'.format(reg.intercept_))\n",
    "\n",
    "pred_values = reg.predict(data[['moto_price', 'driver_intelligence', 'driver_look']])\n",
    "print('Error: {}'.format(mean_absolute_error(pred_values, y)))"
   ]
  },
  {
   "cell_type": "markdown",
   "metadata": {},
   "source": [
    "Так и есть, целевая фича, созданная умножением для линейной регрессии сложнее в предсказании, ошибка выросла на много порядков\n"
   ]
  }
 ],
 "metadata": {
  "kernelspec": {
   "display_name": "Python 3",
   "language": "python",
   "name": "python3"
  },
  "language_info": {
   "codemirror_mode": {
    "name": "ipython",
    "version": 3
   },
   "file_extension": ".py",
   "mimetype": "text/x-python",
   "name": "python",
   "nbconvert_exporter": "python",
   "pygments_lexer": "ipython3",
   "version": "3.7.3"
  }
 },
 "nbformat": 4,
 "nbformat_minor": 2
}
