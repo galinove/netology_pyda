{
 "cells": [
  {
   "cell_type": "markdown",
   "metadata": {},
   "source": [
    "# Задание 1\n",
    "Посчитайте среднее время жизни пользователей, которые выставили более 100 оценок. Под временем жизни понимается разница между максимальным и минимальным значением столбца timestamp для данного значения userId"
   ]
  },
  {
   "cell_type": "code",
   "execution_count": 31,
   "metadata": {},
   "outputs": [
    {
     "data": {
      "text/plain": [
       "39331748.56653992"
      ]
     },
     "execution_count": 31,
     "metadata": {},
     "output_type": "execute_result"
    }
   ],
   "source": [
    "import pandas as pd\n",
    "data = pd.read_csv('Python_8_joins/ml-latest-small/ratings.csv')\n",
    "\n",
    "data_userhi = data.pivot_table(index='userId',values = 'timestamp', aggfunc = 'min', fill_value = 0)\n",
    "data_userbye = data.pivot_table(index='userId',values = 'timestamp', aggfunc = 'max', fill_value = 0)\n",
    "data_userrates = data.pivot_table(index='userId',values = 'timestamp', aggfunc = 'count', fill_value = 0)\n",
    "\n",
    "data_users = data_userhi.merge(data_userbye, how = 'left', on = 'userId').merge(data_userrates, how = 'left', on = 'userId')\n",
    "data_users = data_users[data_users.timestamp >= 100]\n",
    "data_users['LT'] = data_users.timestamp_y - data_users.timestamp_x\n",
    "data_users['LT'].mean()"
   ]
  },
  {
   "cell_type": "markdown",
   "metadata": {},
   "source": [
    "# Задание 2 \n",
    "Дана статистика услуг перевозок клиентов компании по типам (см. файл с кодом занятия). Необходимо сформировать две таблицы:\n",
    "1) таблицу с тремя типами выручки для каждого client_id без указания адреса клиента\n",
    "2) аналогичную таблицу по типам выручки с указанием адреса клиента. Обратите внимание, что в процессе объединения таблиц данные не должны теряться."
   ]
  },
  {
   "cell_type": "code",
   "execution_count": 42,
   "metadata": {},
   "outputs": [],
   "source": [
    "# rzd - железнодорожные перевозки\n",
    "# auto - автомобильные перевозки\n",
    "# air - воздушные перевозки\n",
    "# client_base - адреса клиентов\n",
    "rzd = pd.DataFrame(\n",
    "    {\n",
    "        'client_id': [111, 112, 113, 114, 115],\n",
    "        'rzd_revenue': [1093, 2810, 10283, 5774, 981]\n",
    "    }\n",
    ")\n",
    "# rzd\n",
    "auto = pd.DataFrame(\n",
    "    {\n",
    "        'client_id': [113, 114, 115, 116, 117],\n",
    "        'auto_revenue': [57483, 83, 912, 4834, 98]\n",
    "    }\n",
    ")\n",
    "# auto\n",
    "air = pd.DataFrame(\n",
    "    {\n",
    "        'client_id': [115, 116, 117, 118],\n",
    "        'air_revenue': [81, 4, 13, 173]\n",
    "    }\n",
    ")\n",
    "# air\n",
    "client_base = pd.DataFrame(\n",
    "    {\n",
    "        'client_id': [111, 112, 113, 114, 115, 116, 117, 118],\n",
    "        'address': ['Комсомольская 4', 'Энтузиастов 8а', 'Левобережная 1а', 'Мира 14', 'ЗЖБИиДК 1', \n",
    "                    'Строителей 18', 'Панфиловская 33', 'Мастеркова 4']\n",
    "    }\n",
    ")\n",
    "# client_base"
   ]
  },
  {
   "cell_type": "code",
   "execution_count": 73,
   "metadata": {},
   "outputs": [],
   "source": [
    "data1 = rzd.merge(auto, how='outer').merge(air, how='outer')\n",
    "data2 = data1.merge(client_base, how = 'left')"
   ]
  },
  {
   "cell_type": "markdown",
   "metadata": {},
   "source": [
    "# Задание 3\n",
    "В задаче сквозной аналитики вам предоставили данные по местоположению пользователей (geo_logs). Т. е. для каждого user_id известна последовательность координат (широта/долгота), когда они требовались приложению для полноценной работы. Как бы вы добавили эти сведения в таблицу визитов и покупок(visits)?"
   ]
  },
  {
   "cell_type": "markdown",
   "metadata": {},
   "source": [
    "0. Предположение: приложение для полноценной работы отправляет на сервер координаты через одинаковые промежутки времени. (если это не так, логика та же, однако в расчетах всех вероятностей у логов появятся веса, равные времени нахождения в локации)\n",
    "1. Разделить координатную сетку, создав \"ячейки\" прямоугольной формы.\n",
    "2. Присвоить каждому логу в geo_logs id \"ячейки\" по левому верхнему углу прямоугольника.\n",
    "3. Сгруппировать geo_logs по ячейкам и пользователям\n",
    "4. Нормированная метрика пользователя (user_mobility): Проанализировать распределение для каждого пользователя, посчитав коэффициент мобильности. Например, (количество уникальных ячеек пользователя / общее количество записей в логах по пользователю).  Используем для кластеризации пользователей: \"Дом-работа\"; \"Домашний\"; \"разъездной характер\".\n",
    "5. Нормированная метрика пользователя-ячейки (place_atrractor): Рассчитать для каждой ячейки коэффициент частоты пребывания. Например, (количество логов для связки пользователь - id ячейки / общее количество записей в логах по пользователю)\n",
    "6. В таблицу visits добавляем (left join) user_mobility, id топ-3 ячеек (в разные поля). Топ-N можно корректировать по результатам анализа распределения в п.4"
   ]
  }
 ],
 "metadata": {
  "kernelspec": {
   "display_name": "Python 3",
   "language": "python",
   "name": "python3"
  },
  "language_info": {
   "codemirror_mode": {
    "name": "ipython",
    "version": 3
   },
   "file_extension": ".py",
   "mimetype": "text/x-python",
   "name": "python",
   "nbconvert_exporter": "python",
   "pygments_lexer": "ipython3",
   "version": "3.7.3"
  }
 },
 "nbformat": 4,
 "nbformat_minor": 2
}
