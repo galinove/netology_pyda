{
 "cells": [
  {
   "cell_type": "markdown",
   "metadata": {},
   "source": [
    "# Задание 1\n",
    "Создайте numpy array с элементами от числа N до 0 (например, для N = 10 это будет array([9, 8, 7, 6, 5, 4, 3, 2, 1, 0]))."
   ]
  },
  {
   "cell_type": "code",
   "execution_count": 20,
   "metadata": {},
   "outputs": [
    {
     "name": "stdout",
     "output_type": "stream",
     "text": [
      "[9 8 7 6 5 4 3 2 1 0]\n"
     ]
    }
   ],
   "source": [
    "def np_array_N_down(N):\n",
    "    import numpy as np\n",
    "    return np.arange(N-1,-1,-1)\n",
    "\n",
    "print(np_array_N_down(10))"
   ]
  },
  {
   "cell_type": "markdown",
   "metadata": {},
   "source": [
    "# Задание 2\n",
    "Создайте диагональную матрицу с элементами от N до 0. Посчитайте сумму ее значений на диагонали."
   ]
  },
  {
   "cell_type": "code",
   "execution_count": 26,
   "metadata": {},
   "outputs": [
    {
     "name": "stdout",
     "output_type": "stream",
     "text": [
      "45\n"
     ]
    }
   ],
   "source": [
    "def np_diag_N_down(N):\n",
    "    import numpy as np\n",
    "    return np.sum(np.diag(np.arange(N-1,-1,-1), k=0))\n",
    "\n",
    "print(np_diag_N_down(10))"
   ]
  },
  {
   "cell_type": "markdown",
   "metadata": {},
   "source": [
    "# Задание 3\n",
    "Решите систему уравнений:\n",
    "\n",
    "4x + 2y + z = 4\n",
    "\n",
    "x + 3y = 12\n",
    "\n",
    "5y + 4z = -3"
   ]
  },
  {
   "cell_type": "code",
   "execution_count": 15,
   "metadata": {},
   "outputs": [
    {
     "name": "stdout",
     "output_type": "stream",
     "text": [
      "[[4 2 1]\n",
      " [1 3 0]\n",
      " [0 5 4]]\n",
      "[ 4 12 -3]\n"
     ]
    },
    {
     "data": {
      "text/plain": [
       "array([ 0.46666667,  3.84444444, -5.55555556])"
      ]
     },
     "execution_count": 15,
     "metadata": {},
     "output_type": "execute_result"
    }
   ],
   "source": [
    "def solver(input_option=True, koefs_left=[],koefs_right=[]):\n",
    "    \"\"\"\n",
    "    Функция преддназначена для решения систем линейных уравнений\n",
    "    Предусматривает ручной ввод коэфициентов или расчет на основе уже существующих переменных\n",
    "    \"\"\"\n",
    "    import numpy as np\n",
    "    from numpy import linalg\n",
    "    if input_option:\n",
    "        print('Введите количество уравнений в системе:')\n",
    "        N=int(input())\n",
    "\n",
    "        koefs_left = np.zeros((N,N))\n",
    "        koefs_right = np.zeros((N,1))\n",
    "\n",
    "        for eq in range(N):\n",
    "            print(f\"Для уравнения номер {eq+1} из {N} введите последовательно коэфициенты\")\n",
    "            for koef in range(N+1):\n",
    "                x = int(input())\n",
    "                if koef<N:\n",
    "                    koefs_left[eq][koef]=x\n",
    "                else: \n",
    "                    koefs_right[eq][0]=x\n",
    "    print(koefs_left)\n",
    "    print(koefs_right)\n",
    "    if np.allclose( np.dot(koefs_left, linalg.solve(koefs_left, koefs_right)), koefs_right):\n",
    "        return linalg.solve(koefs_left, koefs_right)\n",
    "\n",
    "    \n",
    "import numpy as np\n",
    "from numpy import linalg    \n",
    "koefs_left = np.array([[4, 2, 1], [1, 3, 0], [0, 5, 4]])\n",
    "koefs_right = np.array([4, 12, -3])\n",
    "\n",
    "solver(False, koefs_left, koefs_right)\n",
    "# solver()"
   ]
  }
 ],
 "metadata": {
  "kernelspec": {
   "display_name": "Python 3",
   "language": "python",
   "name": "python3"
  },
  "language_info": {
   "codemirror_mode": {
    "name": "ipython",
    "version": 3
   },
   "file_extension": ".py",
   "mimetype": "text/x-python",
   "name": "python",
   "nbconvert_exporter": "python",
   "pygments_lexer": "ipython3",
   "version": "3.7.3"
  }
 },
 "nbformat": 4,
 "nbformat_minor": 2
}
