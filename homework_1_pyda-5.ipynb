{
 "cells": [
  {
   "cell_type": "markdown",
   "metadata": {},
   "source": [
    "**Задание 1**. Даны 2 строки: *long_phrase* и *short_phrase*. \n",
    "Напишите код, который проверяет действительно ли длинная фраза *long_phrase* длиннее короткой *short_phrase*. И выводит *True* или *False* в зависимости от результата сравнения."
   ]
  },
  {
   "cell_type": "code",
   "execution_count": 17,
   "metadata": {
    "scrolled": true
   },
   "outputs": [],
   "source": [
    "long_phrase = 'Насколько проще было бы писать программы, если бы не заказчики'\n",
    "short_phrase = '640Кб должно хватить для любых задач. Билл Гейтс (по легенде)'"
   ]
  },
  {
   "cell_type": "code",
   "execution_count": 23,
   "metadata": {},
   "outputs": [
    {
     "name": "stdout",
     "output_type": "stream",
     "text": [
      "True\n"
     ]
    }
   ],
   "source": [
    "if len(long_phrase) > len(short_phrase):\n",
    "    print (True)\n",
    "else: print(False)"
   ]
  },
  {
   "cell_type": "markdown",
   "metadata": {},
   "source": [
    "**Задание 2**. Дано значение объема файла в байтах. Напишите перевод этого значения в мегабайты в формате: \"*Объем файла равен 213.68Mb*\""
   ]
  },
  {
   "cell_type": "code",
   "execution_count": 29,
   "metadata": {},
   "outputs": [
    {
     "name": "stdout",
     "output_type": "stream",
     "text": [
      "Введите объем файла в байтах\n",
      "1024\n",
      "Объем файла равен 1.00 Мб\n"
     ]
    }
   ],
   "source": [
    "print (\"Введите объем файла в байтах\")\n",
    "x = input()\n",
    "if x.isdigit():\n",
    "    x = int(x) / 1024\n",
    "    print ('Объем файла равен {0:.2f} Мб'.format(x))\n",
    "else: print ('Введено не число')"
   ]
  },
  {
   "cell_type": "markdown",
   "metadata": {},
   "source": [
    "**Задание 3**. Разработать приложение для определения знака зодиака по дате рождения. Пример:\n",
    "\n",
    "Введите месяц: март\n",
    "\n",
    "Введите число: 6\n",
    "\n",
    "Вывод:\n",
    "Рыбы"
   ]
  },
  {
   "cell_type": "code",
   "execution_count": 17,
   "metadata": {},
   "outputs": [
    {
     "name": "stdout",
     "output_type": "stream",
     "text": [
      "Введите дату рождения в формате ДД.ММ, например, 31.12\n",
      "02.09\n",
      "Вам повезло, ваш знак зодиака - Дева\n"
     ]
    }
   ],
   "source": [
    "import datetime as DT\n",
    "print (\"Введите дату рождения в формате ДД.ММ, например, 31.12\")\n",
    "date_text = input()\n",
    "date = DT.datetime.strptime(date_text, '%d.%m').date()\n",
    "date0 = DT.datetime.strptime(\"01.01\", '%d.%m').date()\n",
    "day_number = abs(date-date0).days+1\n",
    "if 79 <= day_number <= 108:\n",
    "    zodiak = 'Овен'\n",
    "elif 109 <= day_number <= 139:\n",
    "    zodiak = 'Телец'   \n",
    "elif 140 <= day_number <= 171:\n",
    "    zodiak = 'Близнецы'  \n",
    "elif 172 <= day_number <= 202:\n",
    "    zodiak = 'Рак'  \n",
    "elif 203 <= day_number <= 233:\n",
    "    zodiak = 'Лев'  \n",
    "elif 234 <= day_number <= 264:\n",
    "    zodiak = 'Дева'  \n",
    "elif 265 <= day_number <= 295:\n",
    "    zodiak = 'Весы'  \n",
    "elif 296 <= day_number <= 325:\n",
    "    zodiak = 'Скорпион'  \n",
    "elif 326 <= day_number <= 354:\n",
    "    zodiak = 'Стрелец'  \n",
    "elif day_number >= 355 or day_number <= 19:\n",
    "    zodiak = 'Козерог'  \n",
    "elif 20 <= day_number <= 48:\n",
    "    zodiak = 'Водолей'  \n",
    "elif 49 <= day_number <= 78:\n",
    "    zodiak = 'Рыбы'  \n",
    "print('Вам повезло, ваш знак зодиака -', zodiak)"
   ]
  },
  {
   "cell_type": "markdown",
   "metadata": {},
   "source": [
    "**Задание 4**. Нужно разработать приложение для финансового планирования.\n",
    "Приложение учитывает сколько уходит на ипотеку, \"на жизнь\" и сколько нужно отложить на пенсию.\n",
    "Пользователь вводит:\n",
    "- заработанную плату в месяц.\n",
    "- сколько процентов от ЗП уходит на ипотеку.\n",
    "- сколько процентов от ЗП уходит \"на жизнь\".\n",
    "- сколько раз приходит премия в год.\n",
    "\n",
    "Остальная часть заработанной платы откладывается на пенсию.\n",
    "\n",
    "Также пользователю приходит премия в размере зарплаты, от которой половина уходит на отпуск, а вторая половина откладывается.\n",
    "\n",
    "Программа должна учитывать сколько премий было в год.\n",
    "\n",
    "Нужно вывести сколько денег тратит пользователь на ипотеку и сколько он накопит за год.\n",
    "\n",
    "Пример:\n",
    "\n",
    "Введите заработанную плату в месяц: 100000\n",
    "\n",
    "Введите сколько процентов уходит на ипотеку: 30\n",
    "\n",
    "Введите сколько процентов уходит на жизнь: 50\n",
    "\n",
    "Введите количество премий за год: 2\n",
    "\n",
    "Вывод:\n",
    "На ипотеку было потрачено: 360000 рублей\n",
    "Было накоплено: 340000 рублей"
   ]
  },
  {
   "cell_type": "code",
   "execution_count": 28,
   "metadata": {},
   "outputs": [
    {
     "name": "stdout",
     "output_type": "stream",
     "text": [
      "Введите заработанную плату в месяц\n",
      "100000\n",
      "Введите сколько процентов уходит на ипотеку\n",
      "30\n",
      "Введите сколько процентов уходит на жизнь\n",
      "50\n",
      "Введите количество премий за год\n",
      "2\n",
      "На ипотеку было потрачено: 360000 рублей Было накоплено: 340000 рублей\n"
     ]
    }
   ],
   "source": [
    "print (\"Введите заработанную плату в месяц\")\n",
    "salary = int(input())\n",
    "print (\"Введите сколько процентов уходит на ипотеку\")\n",
    "mortgage_payment_share = int(input()) * 0.01\n",
    "print (\"Введите сколько процентов уходит на жизнь\")\n",
    "survival_payment_share = int(input()) * 0.01\n",
    "print (\"Введите количество премий за год\")\n",
    "extrasalary_annual_count = int(input())\n",
    "mortgage_payment = salary * 12 * mortgage_payment_share\n",
    "saved_money = salary * 12 * (1- mortgage_payment_share - survival_payment_share) + salary * extrasalary_annual_count * 0.5\n",
    "print('На ипотеку было потрачено: {0:.0f} рублей Было накоплено: {1:.0f} рублей'.format(mortgage_payment, saved_money))"
   ]
  }
 ],
 "metadata": {
  "kernelspec": {
   "display_name": "Python 3",
   "language": "python",
   "name": "python3"
  },
  "language_info": {
   "codemirror_mode": {
    "name": "ipython",
    "version": 3
   },
   "file_extension": ".py",
   "mimetype": "text/x-python",
   "name": "python",
   "nbconvert_exporter": "python",
   "pygments_lexer": "ipython3",
   "version": "3.7.3"
  }
 },
 "nbformat": 4,
 "nbformat_minor": 2
}
