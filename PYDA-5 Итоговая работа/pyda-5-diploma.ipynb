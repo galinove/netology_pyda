{
 "cells": [
  {
   "cell_type": "markdown",
   "metadata": {},
   "source": [
    "# Итоговая работа по курсу «Python и математика для анализа данных»"
   ]
  },
  {
   "cell_type": "markdown",
   "metadata": {},
   "source": [
    "## Получение данных"
   ]
  },
  {
   "cell_type": "markdown",
   "metadata": {},
   "source": [
    "Загрузка библиотек"
   ]
  },
  {
   "cell_type": "code",
   "execution_count": 1,
   "metadata": {},
   "outputs": [],
   "source": [
    "import numpy as np\n",
    "from scipy.stats import t\n",
    "from scipy.stats import norm\n",
    "import matplotlib.pyplot as plt\n",
    "from scipy import stats\n",
    "import pandas as pd\n",
    "import io\n",
    "import requests\n",
    "import seaborn as sns\n",
    "import statistics\n",
    "from collections import Counter\n",
    "%matplotlib inline"
   ]
  },
  {
   "cell_type": "markdown",
   "metadata": {},
   "source": [
    "Загрузка датасета"
   ]
  },
  {
   "cell_type": "code",
   "execution_count": 2,
   "metadata": {},
   "outputs": [],
   "source": [
    "data=pd.read_csv('HR.csv')\n",
    "data_backup=data"
   ]
  },
  {
   "cell_type": "markdown",
   "metadata": {},
   "source": [
    "Просмотр структуры и содержимого"
   ]
  },
  {
   "cell_type": "code",
   "execution_count": 3,
   "metadata": {},
   "outputs": [
    {
     "data": {
      "text/html": [
       "<div>\n",
       "<style scoped>\n",
       "    .dataframe tbody tr th:only-of-type {\n",
       "        vertical-align: middle;\n",
       "    }\n",
       "\n",
       "    .dataframe tbody tr th {\n",
       "        vertical-align: top;\n",
       "    }\n",
       "\n",
       "    .dataframe thead th {\n",
       "        text-align: right;\n",
       "    }\n",
       "</style>\n",
       "<table border=\"1\" class=\"dataframe\">\n",
       "  <thead>\n",
       "    <tr style=\"text-align: right;\">\n",
       "      <th></th>\n",
       "      <th>satisfaction_level</th>\n",
       "      <th>last_evaluation</th>\n",
       "      <th>number_project</th>\n",
       "      <th>average_montly_hours</th>\n",
       "      <th>time_spend_company</th>\n",
       "      <th>Work_accident</th>\n",
       "      <th>left</th>\n",
       "      <th>promotion_last_5years</th>\n",
       "      <th>sales</th>\n",
       "      <th>salary</th>\n",
       "    </tr>\n",
       "  </thead>\n",
       "  <tbody>\n",
       "    <tr>\n",
       "      <th>0</th>\n",
       "      <td>0.38</td>\n",
       "      <td>0.53</td>\n",
       "      <td>2</td>\n",
       "      <td>157</td>\n",
       "      <td>3</td>\n",
       "      <td>0</td>\n",
       "      <td>1</td>\n",
       "      <td>0</td>\n",
       "      <td>sales</td>\n",
       "      <td>low</td>\n",
       "    </tr>\n",
       "    <tr>\n",
       "      <th>1</th>\n",
       "      <td>0.80</td>\n",
       "      <td>0.86</td>\n",
       "      <td>5</td>\n",
       "      <td>262</td>\n",
       "      <td>6</td>\n",
       "      <td>0</td>\n",
       "      <td>1</td>\n",
       "      <td>0</td>\n",
       "      <td>sales</td>\n",
       "      <td>medium</td>\n",
       "    </tr>\n",
       "    <tr>\n",
       "      <th>2</th>\n",
       "      <td>0.11</td>\n",
       "      <td>0.88</td>\n",
       "      <td>7</td>\n",
       "      <td>272</td>\n",
       "      <td>4</td>\n",
       "      <td>0</td>\n",
       "      <td>1</td>\n",
       "      <td>0</td>\n",
       "      <td>sales</td>\n",
       "      <td>medium</td>\n",
       "    </tr>\n",
       "    <tr>\n",
       "      <th>3</th>\n",
       "      <td>0.72</td>\n",
       "      <td>0.87</td>\n",
       "      <td>5</td>\n",
       "      <td>223</td>\n",
       "      <td>5</td>\n",
       "      <td>0</td>\n",
       "      <td>1</td>\n",
       "      <td>0</td>\n",
       "      <td>sales</td>\n",
       "      <td>low</td>\n",
       "    </tr>\n",
       "    <tr>\n",
       "      <th>4</th>\n",
       "      <td>0.37</td>\n",
       "      <td>0.52</td>\n",
       "      <td>2</td>\n",
       "      <td>159</td>\n",
       "      <td>3</td>\n",
       "      <td>0</td>\n",
       "      <td>1</td>\n",
       "      <td>0</td>\n",
       "      <td>sales</td>\n",
       "      <td>low</td>\n",
       "    </tr>\n",
       "    <tr>\n",
       "      <th>5</th>\n",
       "      <td>0.41</td>\n",
       "      <td>0.50</td>\n",
       "      <td>2</td>\n",
       "      <td>153</td>\n",
       "      <td>3</td>\n",
       "      <td>0</td>\n",
       "      <td>1</td>\n",
       "      <td>0</td>\n",
       "      <td>sales</td>\n",
       "      <td>low</td>\n",
       "    </tr>\n",
       "    <tr>\n",
       "      <th>6</th>\n",
       "      <td>0.10</td>\n",
       "      <td>0.77</td>\n",
       "      <td>6</td>\n",
       "      <td>247</td>\n",
       "      <td>4</td>\n",
       "      <td>0</td>\n",
       "      <td>1</td>\n",
       "      <td>0</td>\n",
       "      <td>sales</td>\n",
       "      <td>low</td>\n",
       "    </tr>\n",
       "    <tr>\n",
       "      <th>7</th>\n",
       "      <td>0.92</td>\n",
       "      <td>0.85</td>\n",
       "      <td>5</td>\n",
       "      <td>259</td>\n",
       "      <td>5</td>\n",
       "      <td>0</td>\n",
       "      <td>1</td>\n",
       "      <td>0</td>\n",
       "      <td>sales</td>\n",
       "      <td>low</td>\n",
       "    </tr>\n",
       "    <tr>\n",
       "      <th>8</th>\n",
       "      <td>0.89</td>\n",
       "      <td>1.00</td>\n",
       "      <td>5</td>\n",
       "      <td>224</td>\n",
       "      <td>5</td>\n",
       "      <td>0</td>\n",
       "      <td>1</td>\n",
       "      <td>0</td>\n",
       "      <td>sales</td>\n",
       "      <td>low</td>\n",
       "    </tr>\n",
       "    <tr>\n",
       "      <th>9</th>\n",
       "      <td>0.42</td>\n",
       "      <td>0.53</td>\n",
       "      <td>2</td>\n",
       "      <td>142</td>\n",
       "      <td>3</td>\n",
       "      <td>0</td>\n",
       "      <td>1</td>\n",
       "      <td>0</td>\n",
       "      <td>sales</td>\n",
       "      <td>low</td>\n",
       "    </tr>\n",
       "  </tbody>\n",
       "</table>\n",
       "</div>"
      ],
      "text/plain": [
       "   satisfaction_level  last_evaluation  number_project  average_montly_hours  \\\n",
       "0                0.38             0.53               2                   157   \n",
       "1                0.80             0.86               5                   262   \n",
       "2                0.11             0.88               7                   272   \n",
       "3                0.72             0.87               5                   223   \n",
       "4                0.37             0.52               2                   159   \n",
       "5                0.41             0.50               2                   153   \n",
       "6                0.10             0.77               6                   247   \n",
       "7                0.92             0.85               5                   259   \n",
       "8                0.89             1.00               5                   224   \n",
       "9                0.42             0.53               2                   142   \n",
       "\n",
       "   time_spend_company  Work_accident  left  promotion_last_5years  sales  \\\n",
       "0                   3              0     1                      0  sales   \n",
       "1                   6              0     1                      0  sales   \n",
       "2                   4              0     1                      0  sales   \n",
       "3                   5              0     1                      0  sales   \n",
       "4                   3              0     1                      0  sales   \n",
       "5                   3              0     1                      0  sales   \n",
       "6                   4              0     1                      0  sales   \n",
       "7                   5              0     1                      0  sales   \n",
       "8                   5              0     1                      0  sales   \n",
       "9                   3              0     1                      0  sales   \n",
       "\n",
       "   salary  \n",
       "0     low  \n",
       "1  medium  \n",
       "2  medium  \n",
       "3     low  \n",
       "4     low  \n",
       "5     low  \n",
       "6     low  \n",
       "7     low  \n",
       "8     low  \n",
       "9     low  "
      ]
     },
     "metadata": {},
     "output_type": "display_data"
    }
   ],
   "source": [
    "display(data.head(10))"
   ]
  },
  {
   "cell_type": "markdown",
   "metadata": {},
   "source": [
    "Просмотр размера"
   ]
  },
  {
   "cell_type": "code",
   "execution_count": 4,
   "metadata": {},
   "outputs": [
    {
     "data": {
      "text/plain": [
       "(14999, 10)"
      ]
     },
     "execution_count": 4,
     "metadata": {},
     "output_type": "execute_result"
    }
   ],
   "source": [
    "data.shape"
   ]
  },
  {
   "cell_type": "markdown",
   "metadata": {},
   "source": [
    "Оценка качества"
   ]
  },
  {
   "cell_type": "code",
   "execution_count": 5,
   "metadata": {},
   "outputs": [
    {
     "data": {
      "text/plain": [
       "salary                   0\n",
       "sales                    0\n",
       "promotion_last_5years    0\n",
       "left                     0\n",
       "Work_accident            0\n",
       "time_spend_company       0\n",
       "average_montly_hours     0\n",
       "number_project           0\n",
       "last_evaluation          0\n",
       "satisfaction_level       0\n",
       "dtype: int64"
      ]
     },
     "execution_count": 5,
     "metadata": {},
     "output_type": "execute_result"
    }
   ],
   "source": [
    "data.isnull().sum().sort_values(ascending=False)"
   ]
  },
  {
   "cell_type": "markdown",
   "metadata": {},
   "source": [
    "В данных нет пропущенных значений, качество отличное"
   ]
  },
  {
   "cell_type": "code",
   "execution_count": 6,
   "metadata": {},
   "outputs": [
    {
     "name": "stdout",
     "output_type": "stream",
     "text": [
      "Количество структурных подразделений - 10\n",
      "Количество категорий зарплат - 3\n"
     ]
    }
   ],
   "source": [
    "print(f\"Количество структурных подразделений - {len(data.sales.unique())}\")\n",
    "print(f\"Количество категорий зарплат - {len(data.salary.unique())}\")"
   ]
  },
  {
   "cell_type": "markdown",
   "metadata": {},
   "source": [
    "Произведем перевод категориальных переменных в вектора"
   ]
  },
  {
   "cell_type": "code",
   "execution_count": 7,
   "metadata": {},
   "outputs": [],
   "source": [
    "data = pd.get_dummies(data, columns = [\"sales\",\"salary\"],\n",
    "                             prefix=[\"sales\",\"salary\"])"
   ]
  },
  {
   "cell_type": "markdown",
   "metadata": {},
   "source": [
    "# Основные статистистические характеристики переменных"
   ]
  },
  {
   "cell_type": "code",
   "execution_count": 8,
   "metadata": {},
   "outputs": [
    {
     "data": {
      "text/html": [
       "<div>\n",
       "<style scoped>\n",
       "    .dataframe tbody tr th:only-of-type {\n",
       "        vertical-align: middle;\n",
       "    }\n",
       "\n",
       "    .dataframe tbody tr th {\n",
       "        vertical-align: top;\n",
       "    }\n",
       "\n",
       "    .dataframe thead th {\n",
       "        text-align: right;\n",
       "    }\n",
       "</style>\n",
       "<table border=\"1\" class=\"dataframe\">\n",
       "  <thead>\n",
       "    <tr style=\"text-align: right;\">\n",
       "      <th></th>\n",
       "      <th>count</th>\n",
       "      <th>mean</th>\n",
       "      <th>std</th>\n",
       "      <th>min</th>\n",
       "      <th>25%</th>\n",
       "      <th>50%</th>\n",
       "      <th>75%</th>\n",
       "      <th>max</th>\n",
       "      <th>Mode</th>\n",
       "    </tr>\n",
       "  </thead>\n",
       "  <tbody>\n",
       "    <tr>\n",
       "      <th>satisfaction_level</th>\n",
       "      <td>14999.0</td>\n",
       "      <td>0.612834</td>\n",
       "      <td>0.248631</td>\n",
       "      <td>0.09</td>\n",
       "      <td>0.44</td>\n",
       "      <td>0.64</td>\n",
       "      <td>0.82</td>\n",
       "      <td>1.0</td>\n",
       "      <td>0.1</td>\n",
       "    </tr>\n",
       "    <tr>\n",
       "      <th>last_evaluation</th>\n",
       "      <td>14999.0</td>\n",
       "      <td>0.716102</td>\n",
       "      <td>0.171169</td>\n",
       "      <td>0.36</td>\n",
       "      <td>0.56</td>\n",
       "      <td>0.72</td>\n",
       "      <td>0.87</td>\n",
       "      <td>1.0</td>\n",
       "      <td>0.55</td>\n",
       "    </tr>\n",
       "    <tr>\n",
       "      <th>number_project</th>\n",
       "      <td>14999.0</td>\n",
       "      <td>3.803054</td>\n",
       "      <td>1.232592</td>\n",
       "      <td>2.00</td>\n",
       "      <td>3.00</td>\n",
       "      <td>4.00</td>\n",
       "      <td>5.00</td>\n",
       "      <td>7.0</td>\n",
       "      <td>4</td>\n",
       "    </tr>\n",
       "    <tr>\n",
       "      <th>average_montly_hours</th>\n",
       "      <td>14999.0</td>\n",
       "      <td>201.050337</td>\n",
       "      <td>49.943099</td>\n",
       "      <td>96.00</td>\n",
       "      <td>156.00</td>\n",
       "      <td>200.00</td>\n",
       "      <td>245.00</td>\n",
       "      <td>310.0</td>\n",
       "      <td>[(135, 153)]</td>\n",
       "    </tr>\n",
       "    <tr>\n",
       "      <th>time_spend_company</th>\n",
       "      <td>14999.0</td>\n",
       "      <td>3.498233</td>\n",
       "      <td>1.460136</td>\n",
       "      <td>2.00</td>\n",
       "      <td>3.00</td>\n",
       "      <td>3.00</td>\n",
       "      <td>4.00</td>\n",
       "      <td>10.0</td>\n",
       "      <td>3</td>\n",
       "    </tr>\n",
       "    <tr>\n",
       "      <th>Work_accident</th>\n",
       "      <td>14999.0</td>\n",
       "      <td>0.144610</td>\n",
       "      <td>0.351719</td>\n",
       "      <td>0.00</td>\n",
       "      <td>0.00</td>\n",
       "      <td>0.00</td>\n",
       "      <td>0.00</td>\n",
       "      <td>1.0</td>\n",
       "      <td>0</td>\n",
       "    </tr>\n",
       "    <tr>\n",
       "      <th>left</th>\n",
       "      <td>14999.0</td>\n",
       "      <td>0.238083</td>\n",
       "      <td>0.425924</td>\n",
       "      <td>0.00</td>\n",
       "      <td>0.00</td>\n",
       "      <td>0.00</td>\n",
       "      <td>0.00</td>\n",
       "      <td>1.0</td>\n",
       "      <td>0</td>\n",
       "    </tr>\n",
       "    <tr>\n",
       "      <th>promotion_last_5years</th>\n",
       "      <td>14999.0</td>\n",
       "      <td>0.021268</td>\n",
       "      <td>0.144281</td>\n",
       "      <td>0.00</td>\n",
       "      <td>0.00</td>\n",
       "      <td>0.00</td>\n",
       "      <td>0.00</td>\n",
       "      <td>1.0</td>\n",
       "      <td>0</td>\n",
       "    </tr>\n",
       "    <tr>\n",
       "      <th>sales_IT</th>\n",
       "      <td>14999.0</td>\n",
       "      <td>0.081805</td>\n",
       "      <td>0.274077</td>\n",
       "      <td>0.00</td>\n",
       "      <td>0.00</td>\n",
       "      <td>0.00</td>\n",
       "      <td>0.00</td>\n",
       "      <td>1.0</td>\n",
       "      <td>0</td>\n",
       "    </tr>\n",
       "    <tr>\n",
       "      <th>sales_RandD</th>\n",
       "      <td>14999.0</td>\n",
       "      <td>0.052470</td>\n",
       "      <td>0.222981</td>\n",
       "      <td>0.00</td>\n",
       "      <td>0.00</td>\n",
       "      <td>0.00</td>\n",
       "      <td>0.00</td>\n",
       "      <td>1.0</td>\n",
       "      <td>0</td>\n",
       "    </tr>\n",
       "    <tr>\n",
       "      <th>sales_accounting</th>\n",
       "      <td>14999.0</td>\n",
       "      <td>0.051137</td>\n",
       "      <td>0.220284</td>\n",
       "      <td>0.00</td>\n",
       "      <td>0.00</td>\n",
       "      <td>0.00</td>\n",
       "      <td>0.00</td>\n",
       "      <td>1.0</td>\n",
       "      <td>0</td>\n",
       "    </tr>\n",
       "    <tr>\n",
       "      <th>sales_hr</th>\n",
       "      <td>14999.0</td>\n",
       "      <td>0.049270</td>\n",
       "      <td>0.216438</td>\n",
       "      <td>0.00</td>\n",
       "      <td>0.00</td>\n",
       "      <td>0.00</td>\n",
       "      <td>0.00</td>\n",
       "      <td>1.0</td>\n",
       "      <td>0</td>\n",
       "    </tr>\n",
       "    <tr>\n",
       "      <th>sales_management</th>\n",
       "      <td>14999.0</td>\n",
       "      <td>0.042003</td>\n",
       "      <td>0.200602</td>\n",
       "      <td>0.00</td>\n",
       "      <td>0.00</td>\n",
       "      <td>0.00</td>\n",
       "      <td>0.00</td>\n",
       "      <td>1.0</td>\n",
       "      <td>0</td>\n",
       "    </tr>\n",
       "    <tr>\n",
       "      <th>sales_marketing</th>\n",
       "      <td>14999.0</td>\n",
       "      <td>0.057204</td>\n",
       "      <td>0.232239</td>\n",
       "      <td>0.00</td>\n",
       "      <td>0.00</td>\n",
       "      <td>0.00</td>\n",
       "      <td>0.00</td>\n",
       "      <td>1.0</td>\n",
       "      <td>0</td>\n",
       "    </tr>\n",
       "    <tr>\n",
       "      <th>sales_product_mng</th>\n",
       "      <td>14999.0</td>\n",
       "      <td>0.060137</td>\n",
       "      <td>0.237749</td>\n",
       "      <td>0.00</td>\n",
       "      <td>0.00</td>\n",
       "      <td>0.00</td>\n",
       "      <td>0.00</td>\n",
       "      <td>1.0</td>\n",
       "      <td>0</td>\n",
       "    </tr>\n",
       "    <tr>\n",
       "      <th>sales_sales</th>\n",
       "      <td>14999.0</td>\n",
       "      <td>0.276018</td>\n",
       "      <td>0.447041</td>\n",
       "      <td>0.00</td>\n",
       "      <td>0.00</td>\n",
       "      <td>0.00</td>\n",
       "      <td>1.00</td>\n",
       "      <td>1.0</td>\n",
       "      <td>0</td>\n",
       "    </tr>\n",
       "    <tr>\n",
       "      <th>sales_support</th>\n",
       "      <td>14999.0</td>\n",
       "      <td>0.148610</td>\n",
       "      <td>0.355715</td>\n",
       "      <td>0.00</td>\n",
       "      <td>0.00</td>\n",
       "      <td>0.00</td>\n",
       "      <td>0.00</td>\n",
       "      <td>1.0</td>\n",
       "      <td>0</td>\n",
       "    </tr>\n",
       "    <tr>\n",
       "      <th>sales_technical</th>\n",
       "      <td>14999.0</td>\n",
       "      <td>0.181345</td>\n",
       "      <td>0.385317</td>\n",
       "      <td>0.00</td>\n",
       "      <td>0.00</td>\n",
       "      <td>0.00</td>\n",
       "      <td>0.00</td>\n",
       "      <td>1.0</td>\n",
       "      <td>0</td>\n",
       "    </tr>\n",
       "    <tr>\n",
       "      <th>salary_high</th>\n",
       "      <td>14999.0</td>\n",
       "      <td>0.082472</td>\n",
       "      <td>0.275092</td>\n",
       "      <td>0.00</td>\n",
       "      <td>0.00</td>\n",
       "      <td>0.00</td>\n",
       "      <td>0.00</td>\n",
       "      <td>1.0</td>\n",
       "      <td>0</td>\n",
       "    </tr>\n",
       "    <tr>\n",
       "      <th>salary_low</th>\n",
       "      <td>14999.0</td>\n",
       "      <td>0.487766</td>\n",
       "      <td>0.499867</td>\n",
       "      <td>0.00</td>\n",
       "      <td>0.00</td>\n",
       "      <td>0.00</td>\n",
       "      <td>1.00</td>\n",
       "      <td>1.0</td>\n",
       "      <td>0</td>\n",
       "    </tr>\n",
       "    <tr>\n",
       "      <th>salary_medium</th>\n",
       "      <td>14999.0</td>\n",
       "      <td>0.429762</td>\n",
       "      <td>0.495059</td>\n",
       "      <td>0.00</td>\n",
       "      <td>0.00</td>\n",
       "      <td>0.00</td>\n",
       "      <td>1.00</td>\n",
       "      <td>1.0</td>\n",
       "      <td>0</td>\n",
       "    </tr>\n",
       "  </tbody>\n",
       "</table>\n",
       "</div>"
      ],
      "text/plain": [
       "                         count        mean        std    min     25%     50%  \\\n",
       "satisfaction_level     14999.0    0.612834   0.248631   0.09    0.44    0.64   \n",
       "last_evaluation        14999.0    0.716102   0.171169   0.36    0.56    0.72   \n",
       "number_project         14999.0    3.803054   1.232592   2.00    3.00    4.00   \n",
       "average_montly_hours   14999.0  201.050337  49.943099  96.00  156.00  200.00   \n",
       "time_spend_company     14999.0    3.498233   1.460136   2.00    3.00    3.00   \n",
       "Work_accident          14999.0    0.144610   0.351719   0.00    0.00    0.00   \n",
       "left                   14999.0    0.238083   0.425924   0.00    0.00    0.00   \n",
       "promotion_last_5years  14999.0    0.021268   0.144281   0.00    0.00    0.00   \n",
       "sales_IT               14999.0    0.081805   0.274077   0.00    0.00    0.00   \n",
       "sales_RandD            14999.0    0.052470   0.222981   0.00    0.00    0.00   \n",
       "sales_accounting       14999.0    0.051137   0.220284   0.00    0.00    0.00   \n",
       "sales_hr               14999.0    0.049270   0.216438   0.00    0.00    0.00   \n",
       "sales_management       14999.0    0.042003   0.200602   0.00    0.00    0.00   \n",
       "sales_marketing        14999.0    0.057204   0.232239   0.00    0.00    0.00   \n",
       "sales_product_mng      14999.0    0.060137   0.237749   0.00    0.00    0.00   \n",
       "sales_sales            14999.0    0.276018   0.447041   0.00    0.00    0.00   \n",
       "sales_support          14999.0    0.148610   0.355715   0.00    0.00    0.00   \n",
       "sales_technical        14999.0    0.181345   0.385317   0.00    0.00    0.00   \n",
       "salary_high            14999.0    0.082472   0.275092   0.00    0.00    0.00   \n",
       "salary_low             14999.0    0.487766   0.499867   0.00    0.00    0.00   \n",
       "salary_medium          14999.0    0.429762   0.495059   0.00    0.00    0.00   \n",
       "\n",
       "                          75%    max          Mode  \n",
       "satisfaction_level       0.82    1.0           0.1  \n",
       "last_evaluation          0.87    1.0          0.55  \n",
       "number_project           5.00    7.0             4  \n",
       "average_montly_hours   245.00  310.0  [(135, 153)]  \n",
       "time_spend_company       4.00   10.0             3  \n",
       "Work_accident            0.00    1.0             0  \n",
       "left                     0.00    1.0             0  \n",
       "promotion_last_5years    0.00    1.0             0  \n",
       "sales_IT                 0.00    1.0             0  \n",
       "sales_RandD              0.00    1.0             0  \n",
       "sales_accounting         0.00    1.0             0  \n",
       "sales_hr                 0.00    1.0             0  \n",
       "sales_management         0.00    1.0             0  \n",
       "sales_marketing          0.00    1.0             0  \n",
       "sales_product_mng        0.00    1.0             0  \n",
       "sales_sales              1.00    1.0             0  \n",
       "sales_support            0.00    1.0             0  \n",
       "sales_technical          0.00    1.0             0  \n",
       "salary_high              0.00    1.0             0  \n",
       "salary_low               1.00    1.0             0  \n",
       "salary_medium            1.00    1.0             0  "
      ]
     },
     "metadata": {},
     "output_type": "display_data"
    }
   ],
   "source": [
    "describe = data.describe().T\n",
    "\n",
    "def get_mode(col):\n",
    "    try:\n",
    "        s = statistics.mode(data[col])\n",
    "    except:\n",
    "        s = Counter(list(data[col])).most_common(1)\n",
    "    return s\n",
    "\n",
    "describe['iname'] = describe.index\n",
    "describe['Mode'] = describe['iname'].apply(get_mode)\n",
    "describe = describe.drop(columns = ['iname'], axis=1)\n",
    "display(describe)"
   ]
  },
  {
   "cell_type": "markdown",
   "metadata": {},
   "source": [
    "Интересным является значение моды переменной satisfaction_level, при средней удовлетворенности 0.6 - наиболее частая оценка - 0.1. Это может быть следствием того, что 0.1 - это минимальная оценка, а оценки выше имеют более высокую дробность."
   ]
  },
  {
   "cell_type": "markdown",
   "metadata": {},
   "source": [
    "# Визуализация корреляционной матрицы"
   ]
  },
  {
   "cell_type": "code",
   "execution_count": 9,
   "metadata": {},
   "outputs": [
    {
     "data": {
      "text/html": [
       "<div>\n",
       "<style scoped>\n",
       "    .dataframe tbody tr th:only-of-type {\n",
       "        vertical-align: middle;\n",
       "    }\n",
       "\n",
       "    .dataframe tbody tr th {\n",
       "        vertical-align: top;\n",
       "    }\n",
       "\n",
       "    .dataframe thead th {\n",
       "        text-align: right;\n",
       "    }\n",
       "</style>\n",
       "<table border=\"1\" class=\"dataframe\">\n",
       "  <thead>\n",
       "    <tr style=\"text-align: right;\">\n",
       "      <th></th>\n",
       "      <th>satisfaction_level</th>\n",
       "      <th>last_evaluation</th>\n",
       "      <th>number_project</th>\n",
       "      <th>average_montly_hours</th>\n",
       "      <th>time_spend_company</th>\n",
       "      <th>Work_accident</th>\n",
       "      <th>left</th>\n",
       "      <th>promotion_last_5years</th>\n",
       "      <th>sales_IT</th>\n",
       "      <th>sales_RandD</th>\n",
       "      <th>...</th>\n",
       "      <th>sales_hr</th>\n",
       "      <th>sales_management</th>\n",
       "      <th>sales_marketing</th>\n",
       "      <th>sales_product_mng</th>\n",
       "      <th>sales_sales</th>\n",
       "      <th>sales_support</th>\n",
       "      <th>sales_technical</th>\n",
       "      <th>salary_high</th>\n",
       "      <th>salary_low</th>\n",
       "      <th>salary_medium</th>\n",
       "    </tr>\n",
       "  </thead>\n",
       "  <tbody>\n",
       "    <tr>\n",
       "      <th>satisfaction_level</th>\n",
       "      <td>1.000000</td>\n",
       "      <td>0.105021</td>\n",
       "      <td>-0.142970</td>\n",
       "      <td>-0.020048</td>\n",
       "      <td>-0.100866</td>\n",
       "      <td>0.058697</td>\n",
       "      <td>-0.388375</td>\n",
       "      <td>0.025605</td>\n",
       "      <td>0.006373</td>\n",
       "      <td>0.006615</td>\n",
       "      <td>...</td>\n",
       "      <td>-0.012841</td>\n",
       "      <td>0.007172</td>\n",
       "      <td>0.005715</td>\n",
       "      <td>0.006919</td>\n",
       "      <td>0.004007</td>\n",
       "      <td>0.009185</td>\n",
       "      <td>-0.009345</td>\n",
       "      <td>0.029708</td>\n",
       "      <td>-0.047415</td>\n",
       "      <td>0.031367</td>\n",
       "    </tr>\n",
       "    <tr>\n",
       "      <th>last_evaluation</th>\n",
       "      <td>0.105021</td>\n",
       "      <td>1.000000</td>\n",
       "      <td>0.349333</td>\n",
       "      <td>0.339742</td>\n",
       "      <td>0.131591</td>\n",
       "      <td>-0.007104</td>\n",
       "      <td>0.006567</td>\n",
       "      <td>-0.008684</td>\n",
       "      <td>0.001269</td>\n",
       "      <td>-0.005471</td>\n",
       "      <td>...</td>\n",
       "      <td>-0.009645</td>\n",
       "      <td>0.009662</td>\n",
       "      <td>-0.000311</td>\n",
       "      <td>-0.001989</td>\n",
       "      <td>-0.023031</td>\n",
       "      <td>0.017104</td>\n",
       "      <td>0.013742</td>\n",
       "      <td>-0.020628</td>\n",
       "      <td>0.005221</td>\n",
       "      <td>0.006191</td>\n",
       "    </tr>\n",
       "    <tr>\n",
       "      <th>number_project</th>\n",
       "      <td>-0.142970</td>\n",
       "      <td>0.349333</td>\n",
       "      <td>1.000000</td>\n",
       "      <td>0.417211</td>\n",
       "      <td>0.196786</td>\n",
       "      <td>-0.004741</td>\n",
       "      <td>0.023787</td>\n",
       "      <td>-0.006064</td>\n",
       "      <td>0.003287</td>\n",
       "      <td>0.009703</td>\n",
       "      <td>...</td>\n",
       "      <td>-0.027356</td>\n",
       "      <td>0.009728</td>\n",
       "      <td>-0.023064</td>\n",
       "      <td>0.000829</td>\n",
       "      <td>-0.013388</td>\n",
       "      <td>0.000303</td>\n",
       "      <td>0.028596</td>\n",
       "      <td>-0.008726</td>\n",
       "      <td>-0.002504</td>\n",
       "      <td>0.007377</td>\n",
       "    </tr>\n",
       "    <tr>\n",
       "      <th>average_montly_hours</th>\n",
       "      <td>-0.020048</td>\n",
       "      <td>0.339742</td>\n",
       "      <td>0.417211</td>\n",
       "      <td>1.000000</td>\n",
       "      <td>0.127755</td>\n",
       "      <td>-0.010143</td>\n",
       "      <td>0.071287</td>\n",
       "      <td>-0.003544</td>\n",
       "      <td>0.006967</td>\n",
       "      <td>-0.001177</td>\n",
       "      <td>...</td>\n",
       "      <td>-0.010783</td>\n",
       "      <td>0.000834</td>\n",
       "      <td>-0.008210</td>\n",
       "      <td>-0.005494</td>\n",
       "      <td>-0.001718</td>\n",
       "      <td>-0.002444</td>\n",
       "      <td>0.013638</td>\n",
       "      <td>-0.007101</td>\n",
       "      <td>-0.001050</td>\n",
       "      <td>0.005007</td>\n",
       "    </tr>\n",
       "    <tr>\n",
       "      <th>time_spend_company</th>\n",
       "      <td>-0.100866</td>\n",
       "      <td>0.131591</td>\n",
       "      <td>0.196786</td>\n",
       "      <td>0.127755</td>\n",
       "      <td>1.000000</td>\n",
       "      <td>0.002120</td>\n",
       "      <td>0.144822</td>\n",
       "      <td>0.067433</td>\n",
       "      <td>-0.006053</td>\n",
       "      <td>-0.021116</td>\n",
       "      <td>...</td>\n",
       "      <td>-0.022194</td>\n",
       "      <td>0.115436</td>\n",
       "      <td>0.012096</td>\n",
       "      <td>-0.003919</td>\n",
       "      <td>0.015150</td>\n",
       "      <td>-0.030111</td>\n",
       "      <td>-0.027991</td>\n",
       "      <td>0.039953</td>\n",
       "      <td>-0.040110</td>\n",
       "      <td>0.018299</td>\n",
       "    </tr>\n",
       "    <tr>\n",
       "      <th>Work_accident</th>\n",
       "      <td>0.058697</td>\n",
       "      <td>-0.007104</td>\n",
       "      <td>-0.004741</td>\n",
       "      <td>-0.010143</td>\n",
       "      <td>0.002120</td>\n",
       "      <td>1.000000</td>\n",
       "      <td>-0.154622</td>\n",
       "      <td>0.039245</td>\n",
       "      <td>-0.009293</td>\n",
       "      <td>0.017167</td>\n",
       "      <td>...</td>\n",
       "      <td>-0.015649</td>\n",
       "      <td>0.011242</td>\n",
       "      <td>0.011367</td>\n",
       "      <td>0.001246</td>\n",
       "      <td>-0.004955</td>\n",
       "      <td>0.012079</td>\n",
       "      <td>-0.006070</td>\n",
       "      <td>0.009040</td>\n",
       "      <td>-0.006813</td>\n",
       "      <td>0.001856</td>\n",
       "    </tr>\n",
       "    <tr>\n",
       "      <th>left</th>\n",
       "      <td>-0.388375</td>\n",
       "      <td>0.006567</td>\n",
       "      <td>0.023787</td>\n",
       "      <td>0.071287</td>\n",
       "      <td>0.144822</td>\n",
       "      <td>-0.154622</td>\n",
       "      <td>1.000000</td>\n",
       "      <td>-0.061788</td>\n",
       "      <td>-0.010925</td>\n",
       "      <td>-0.046596</td>\n",
       "      <td>...</td>\n",
       "      <td>0.028249</td>\n",
       "      <td>-0.046035</td>\n",
       "      <td>-0.000859</td>\n",
       "      <td>-0.011029</td>\n",
       "      <td>0.009923</td>\n",
       "      <td>0.010700</td>\n",
       "      <td>0.020076</td>\n",
       "      <td>-0.120929</td>\n",
       "      <td>0.134722</td>\n",
       "      <td>-0.068833</td>\n",
       "    </tr>\n",
       "    <tr>\n",
       "      <th>promotion_last_5years</th>\n",
       "      <td>0.025605</td>\n",
       "      <td>-0.008684</td>\n",
       "      <td>-0.006064</td>\n",
       "      <td>-0.003544</td>\n",
       "      <td>0.067433</td>\n",
       "      <td>0.039245</td>\n",
       "      <td>-0.061788</td>\n",
       "      <td>1.000000</td>\n",
       "      <td>-0.038942</td>\n",
       "      <td>0.021268</td>\n",
       "      <td>...</td>\n",
       "      <td>-0.001531</td>\n",
       "      <td>0.128087</td>\n",
       "      <td>0.049253</td>\n",
       "      <td>-0.037288</td>\n",
       "      <td>0.012353</td>\n",
       "      <td>-0.035605</td>\n",
       "      <td>-0.035799</td>\n",
       "      <td>0.076756</td>\n",
       "      <td>-0.082832</td>\n",
       "      <td>0.040985</td>\n",
       "    </tr>\n",
       "    <tr>\n",
       "      <th>sales_IT</th>\n",
       "      <td>0.006373</td>\n",
       "      <td>0.001269</td>\n",
       "      <td>0.003287</td>\n",
       "      <td>0.006967</td>\n",
       "      <td>-0.006053</td>\n",
       "      <td>-0.009293</td>\n",
       "      <td>-0.010925</td>\n",
       "      <td>-0.038942</td>\n",
       "      <td>1.000000</td>\n",
       "      <td>-0.070240</td>\n",
       "      <td>...</td>\n",
       "      <td>-0.067949</td>\n",
       "      <td>-0.062500</td>\n",
       "      <td>-0.073524</td>\n",
       "      <td>-0.075503</td>\n",
       "      <td>-0.184302</td>\n",
       "      <td>-0.124705</td>\n",
       "      <td>-0.140484</td>\n",
       "      <td>-0.016089</td>\n",
       "      <td>0.005116</td>\n",
       "      <td>0.003775</td>\n",
       "    </tr>\n",
       "    <tr>\n",
       "      <th>sales_RandD</th>\n",
       "      <td>0.006615</td>\n",
       "      <td>-0.005471</td>\n",
       "      <td>0.009703</td>\n",
       "      <td>-0.001177</td>\n",
       "      <td>-0.021116</td>\n",
       "      <td>0.017167</td>\n",
       "      <td>-0.046596</td>\n",
       "      <td>0.021268</td>\n",
       "      <td>-0.070240</td>\n",
       "      <td>1.000000</td>\n",
       "      <td>...</td>\n",
       "      <td>-0.053570</td>\n",
       "      <td>-0.049274</td>\n",
       "      <td>-0.057965</td>\n",
       "      <td>-0.059525</td>\n",
       "      <td>-0.145300</td>\n",
       "      <td>-0.098315</td>\n",
       "      <td>-0.110755</td>\n",
       "      <td>-0.015115</td>\n",
       "      <td>-0.011887</td>\n",
       "      <td>0.020402</td>\n",
       "    </tr>\n",
       "    <tr>\n",
       "      <th>sales_accounting</th>\n",
       "      <td>-0.028649</td>\n",
       "      <td>0.002193</td>\n",
       "      <td>0.004189</td>\n",
       "      <td>0.000524</td>\n",
       "      <td>0.003909</td>\n",
       "      <td>-0.012836</td>\n",
       "      <td>0.015201</td>\n",
       "      <td>-0.004852</td>\n",
       "      <td>-0.069293</td>\n",
       "      <td>-0.054629</td>\n",
       "      <td>...</td>\n",
       "      <td>-0.052848</td>\n",
       "      <td>-0.048610</td>\n",
       "      <td>-0.057183</td>\n",
       "      <td>-0.058723</td>\n",
       "      <td>-0.143341</td>\n",
       "      <td>-0.096989</td>\n",
       "      <td>-0.109262</td>\n",
       "      <td>0.011821</td>\n",
       "      <td>-0.009759</td>\n",
       "      <td>0.003285</td>\n",
       "    </tr>\n",
       "    <tr>\n",
       "      <th>sales_hr</th>\n",
       "      <td>-0.012841</td>\n",
       "      <td>-0.009645</td>\n",
       "      <td>-0.027356</td>\n",
       "      <td>-0.010783</td>\n",
       "      <td>-0.022194</td>\n",
       "      <td>-0.015649</td>\n",
       "      <td>0.028249</td>\n",
       "      <td>-0.001531</td>\n",
       "      <td>-0.067949</td>\n",
       "      <td>-0.053570</td>\n",
       "      <td>...</td>\n",
       "      <td>1.000000</td>\n",
       "      <td>-0.047667</td>\n",
       "      <td>-0.056075</td>\n",
       "      <td>-0.057584</td>\n",
       "      <td>-0.140562</td>\n",
       "      <td>-0.095109</td>\n",
       "      <td>-0.107143</td>\n",
       "      <td>-0.017858</td>\n",
       "      <td>-0.015690</td>\n",
       "      <td>0.025765</td>\n",
       "    </tr>\n",
       "    <tr>\n",
       "      <th>sales_management</th>\n",
       "      <td>0.007172</td>\n",
       "      <td>0.009662</td>\n",
       "      <td>0.009728</td>\n",
       "      <td>0.000834</td>\n",
       "      <td>0.115436</td>\n",
       "      <td>0.011242</td>\n",
       "      <td>-0.046035</td>\n",
       "      <td>0.128087</td>\n",
       "      <td>-0.062500</td>\n",
       "      <td>-0.049274</td>\n",
       "      <td>...</td>\n",
       "      <td>-0.047667</td>\n",
       "      <td>1.000000</td>\n",
       "      <td>-0.051578</td>\n",
       "      <td>-0.052966</td>\n",
       "      <td>-0.129289</td>\n",
       "      <td>-0.087482</td>\n",
       "      <td>-0.098551</td>\n",
       "      <td>0.209077</td>\n",
       "      <td>-0.084641</td>\n",
       "      <td>-0.030716</td>\n",
       "    </tr>\n",
       "    <tr>\n",
       "      <th>sales_marketing</th>\n",
       "      <td>0.005715</td>\n",
       "      <td>-0.000311</td>\n",
       "      <td>-0.023064</td>\n",
       "      <td>-0.008210</td>\n",
       "      <td>0.012096</td>\n",
       "      <td>0.011367</td>\n",
       "      <td>-0.000859</td>\n",
       "      <td>0.049253</td>\n",
       "      <td>-0.073524</td>\n",
       "      <td>-0.057965</td>\n",
       "      <td>...</td>\n",
       "      <td>-0.056075</td>\n",
       "      <td>-0.051578</td>\n",
       "      <td>1.000000</td>\n",
       "      <td>-0.062308</td>\n",
       "      <td>-0.152093</td>\n",
       "      <td>-0.102911</td>\n",
       "      <td>-0.115933</td>\n",
       "      <td>0.009642</td>\n",
       "      <td>-0.009479</td>\n",
       "      <td>0.004213</td>\n",
       "    </tr>\n",
       "    <tr>\n",
       "      <th>sales_product_mng</th>\n",
       "      <td>0.006919</td>\n",
       "      <td>-0.001989</td>\n",
       "      <td>0.000829</td>\n",
       "      <td>-0.005494</td>\n",
       "      <td>-0.003919</td>\n",
       "      <td>0.001246</td>\n",
       "      <td>-0.011029</td>\n",
       "      <td>-0.037288</td>\n",
       "      <td>-0.075503</td>\n",
       "      <td>-0.059525</td>\n",
       "      <td>...</td>\n",
       "      <td>-0.057584</td>\n",
       "      <td>-0.052966</td>\n",
       "      <td>-0.062308</td>\n",
       "      <td>1.000000</td>\n",
       "      <td>-0.156187</td>\n",
       "      <td>-0.105682</td>\n",
       "      <td>-0.119054</td>\n",
       "      <td>-0.006514</td>\n",
       "      <td>0.006191</td>\n",
       "      <td>-0.002632</td>\n",
       "    </tr>\n",
       "    <tr>\n",
       "      <th>sales_sales</th>\n",
       "      <td>0.004007</td>\n",
       "      <td>-0.023031</td>\n",
       "      <td>-0.013388</td>\n",
       "      <td>-0.001718</td>\n",
       "      <td>0.015150</td>\n",
       "      <td>-0.004955</td>\n",
       "      <td>0.009923</td>\n",
       "      <td>0.012353</td>\n",
       "      <td>-0.184302</td>\n",
       "      <td>-0.145300</td>\n",
       "      <td>...</td>\n",
       "      <td>-0.140562</td>\n",
       "      <td>-0.129289</td>\n",
       "      <td>-0.152093</td>\n",
       "      <td>-0.156187</td>\n",
       "      <td>1.000000</td>\n",
       "      <td>-0.257967</td>\n",
       "      <td>-0.290608</td>\n",
       "      <td>-0.039273</td>\n",
       "      <td>0.023766</td>\n",
       "      <td>-0.002174</td>\n",
       "    </tr>\n",
       "    <tr>\n",
       "      <th>sales_support</th>\n",
       "      <td>0.009185</td>\n",
       "      <td>0.017104</td>\n",
       "      <td>0.000303</td>\n",
       "      <td>-0.002444</td>\n",
       "      <td>-0.030111</td>\n",
       "      <td>0.012079</td>\n",
       "      <td>0.010700</td>\n",
       "      <td>-0.035605</td>\n",
       "      <td>-0.124705</td>\n",
       "      <td>-0.098315</td>\n",
       "      <td>...</td>\n",
       "      <td>-0.095109</td>\n",
       "      <td>-0.087482</td>\n",
       "      <td>-0.102911</td>\n",
       "      <td>-0.105682</td>\n",
       "      <td>-0.257967</td>\n",
       "      <td>1.000000</td>\n",
       "      <td>-0.196636</td>\n",
       "      <td>-0.029184</td>\n",
       "      <td>0.022038</td>\n",
       "      <td>-0.006035</td>\n",
       "    </tr>\n",
       "    <tr>\n",
       "      <th>sales_technical</th>\n",
       "      <td>-0.009345</td>\n",
       "      <td>0.013742</td>\n",
       "      <td>0.028596</td>\n",
       "      <td>0.013638</td>\n",
       "      <td>-0.027991</td>\n",
       "      <td>-0.006070</td>\n",
       "      <td>0.020076</td>\n",
       "      <td>-0.035799</td>\n",
       "      <td>-0.140484</td>\n",
       "      <td>-0.110755</td>\n",
       "      <td>...</td>\n",
       "      <td>-0.107143</td>\n",
       "      <td>-0.098551</td>\n",
       "      <td>-0.115933</td>\n",
       "      <td>-0.119054</td>\n",
       "      <td>-0.290608</td>\n",
       "      <td>-0.196636</td>\n",
       "      <td>1.000000</td>\n",
       "      <td>-0.014672</td>\n",
       "      <td>0.015674</td>\n",
       "      <td>-0.007673</td>\n",
       "    </tr>\n",
       "    <tr>\n",
       "      <th>salary_high</th>\n",
       "      <td>0.029708</td>\n",
       "      <td>-0.020628</td>\n",
       "      <td>-0.008726</td>\n",
       "      <td>-0.007101</td>\n",
       "      <td>0.039953</td>\n",
       "      <td>0.009040</td>\n",
       "      <td>-0.120929</td>\n",
       "      <td>0.076756</td>\n",
       "      <td>-0.016089</td>\n",
       "      <td>-0.015115</td>\n",
       "      <td>...</td>\n",
       "      <td>-0.017858</td>\n",
       "      <td>0.209077</td>\n",
       "      <td>0.009642</td>\n",
       "      <td>-0.006514</td>\n",
       "      <td>-0.039273</td>\n",
       "      <td>-0.029184</td>\n",
       "      <td>-0.014672</td>\n",
       "      <td>1.000000</td>\n",
       "      <td>-0.292560</td>\n",
       "      <td>-0.260274</td>\n",
       "    </tr>\n",
       "    <tr>\n",
       "      <th>salary_low</th>\n",
       "      <td>-0.047415</td>\n",
       "      <td>0.005221</td>\n",
       "      <td>-0.002504</td>\n",
       "      <td>-0.001050</td>\n",
       "      <td>-0.040110</td>\n",
       "      <td>-0.006813</td>\n",
       "      <td>0.134722</td>\n",
       "      <td>-0.082832</td>\n",
       "      <td>0.005116</td>\n",
       "      <td>-0.011887</td>\n",
       "      <td>...</td>\n",
       "      <td>-0.015690</td>\n",
       "      <td>-0.084641</td>\n",
       "      <td>-0.009479</td>\n",
       "      <td>0.006191</td>\n",
       "      <td>0.023766</td>\n",
       "      <td>0.022038</td>\n",
       "      <td>0.015674</td>\n",
       "      <td>-0.292560</td>\n",
       "      <td>1.000000</td>\n",
       "      <td>-0.847144</td>\n",
       "    </tr>\n",
       "    <tr>\n",
       "      <th>salary_medium</th>\n",
       "      <td>0.031367</td>\n",
       "      <td>0.006191</td>\n",
       "      <td>0.007377</td>\n",
       "      <td>0.005007</td>\n",
       "      <td>0.018299</td>\n",
       "      <td>0.001856</td>\n",
       "      <td>-0.068833</td>\n",
       "      <td>0.040985</td>\n",
       "      <td>0.003775</td>\n",
       "      <td>0.020402</td>\n",
       "      <td>...</td>\n",
       "      <td>0.025765</td>\n",
       "      <td>-0.030716</td>\n",
       "      <td>0.004213</td>\n",
       "      <td>-0.002632</td>\n",
       "      <td>-0.002174</td>\n",
       "      <td>-0.006035</td>\n",
       "      <td>-0.007673</td>\n",
       "      <td>-0.260274</td>\n",
       "      <td>-0.847144</td>\n",
       "      <td>1.000000</td>\n",
       "    </tr>\n",
       "  </tbody>\n",
       "</table>\n",
       "<p>21 rows × 21 columns</p>\n",
       "</div>"
      ],
      "text/plain": [
       "                       satisfaction_level  last_evaluation  number_project  \\\n",
       "satisfaction_level               1.000000         0.105021       -0.142970   \n",
       "last_evaluation                  0.105021         1.000000        0.349333   \n",
       "number_project                  -0.142970         0.349333        1.000000   \n",
       "average_montly_hours            -0.020048         0.339742        0.417211   \n",
       "time_spend_company              -0.100866         0.131591        0.196786   \n",
       "Work_accident                    0.058697        -0.007104       -0.004741   \n",
       "left                            -0.388375         0.006567        0.023787   \n",
       "promotion_last_5years            0.025605        -0.008684       -0.006064   \n",
       "sales_IT                         0.006373         0.001269        0.003287   \n",
       "sales_RandD                      0.006615        -0.005471        0.009703   \n",
       "sales_accounting                -0.028649         0.002193        0.004189   \n",
       "sales_hr                        -0.012841        -0.009645       -0.027356   \n",
       "sales_management                 0.007172         0.009662        0.009728   \n",
       "sales_marketing                  0.005715        -0.000311       -0.023064   \n",
       "sales_product_mng                0.006919        -0.001989        0.000829   \n",
       "sales_sales                      0.004007        -0.023031       -0.013388   \n",
       "sales_support                    0.009185         0.017104        0.000303   \n",
       "sales_technical                 -0.009345         0.013742        0.028596   \n",
       "salary_high                      0.029708        -0.020628       -0.008726   \n",
       "salary_low                      -0.047415         0.005221       -0.002504   \n",
       "salary_medium                    0.031367         0.006191        0.007377   \n",
       "\n",
       "                       average_montly_hours  time_spend_company  \\\n",
       "satisfaction_level                -0.020048           -0.100866   \n",
       "last_evaluation                    0.339742            0.131591   \n",
       "number_project                     0.417211            0.196786   \n",
       "average_montly_hours               1.000000            0.127755   \n",
       "time_spend_company                 0.127755            1.000000   \n",
       "Work_accident                     -0.010143            0.002120   \n",
       "left                               0.071287            0.144822   \n",
       "promotion_last_5years             -0.003544            0.067433   \n",
       "sales_IT                           0.006967           -0.006053   \n",
       "sales_RandD                       -0.001177           -0.021116   \n",
       "sales_accounting                   0.000524            0.003909   \n",
       "sales_hr                          -0.010783           -0.022194   \n",
       "sales_management                   0.000834            0.115436   \n",
       "sales_marketing                   -0.008210            0.012096   \n",
       "sales_product_mng                 -0.005494           -0.003919   \n",
       "sales_sales                       -0.001718            0.015150   \n",
       "sales_support                     -0.002444           -0.030111   \n",
       "sales_technical                    0.013638           -0.027991   \n",
       "salary_high                       -0.007101            0.039953   \n",
       "salary_low                        -0.001050           -0.040110   \n",
       "salary_medium                      0.005007            0.018299   \n",
       "\n",
       "                       Work_accident      left  promotion_last_5years  \\\n",
       "satisfaction_level          0.058697 -0.388375               0.025605   \n",
       "last_evaluation            -0.007104  0.006567              -0.008684   \n",
       "number_project             -0.004741  0.023787              -0.006064   \n",
       "average_montly_hours       -0.010143  0.071287              -0.003544   \n",
       "time_spend_company          0.002120  0.144822               0.067433   \n",
       "Work_accident               1.000000 -0.154622               0.039245   \n",
       "left                       -0.154622  1.000000              -0.061788   \n",
       "promotion_last_5years       0.039245 -0.061788               1.000000   \n",
       "sales_IT                   -0.009293 -0.010925              -0.038942   \n",
       "sales_RandD                 0.017167 -0.046596               0.021268   \n",
       "sales_accounting           -0.012836  0.015201              -0.004852   \n",
       "sales_hr                   -0.015649  0.028249              -0.001531   \n",
       "sales_management            0.011242 -0.046035               0.128087   \n",
       "sales_marketing             0.011367 -0.000859               0.049253   \n",
       "sales_product_mng           0.001246 -0.011029              -0.037288   \n",
       "sales_sales                -0.004955  0.009923               0.012353   \n",
       "sales_support               0.012079  0.010700              -0.035605   \n",
       "sales_technical            -0.006070  0.020076              -0.035799   \n",
       "salary_high                 0.009040 -0.120929               0.076756   \n",
       "salary_low                 -0.006813  0.134722              -0.082832   \n",
       "salary_medium               0.001856 -0.068833               0.040985   \n",
       "\n",
       "                       sales_IT  sales_RandD  ...  sales_hr  sales_management  \\\n",
       "satisfaction_level     0.006373     0.006615  ... -0.012841          0.007172   \n",
       "last_evaluation        0.001269    -0.005471  ... -0.009645          0.009662   \n",
       "number_project         0.003287     0.009703  ... -0.027356          0.009728   \n",
       "average_montly_hours   0.006967    -0.001177  ... -0.010783          0.000834   \n",
       "time_spend_company    -0.006053    -0.021116  ... -0.022194          0.115436   \n",
       "Work_accident         -0.009293     0.017167  ... -0.015649          0.011242   \n",
       "left                  -0.010925    -0.046596  ...  0.028249         -0.046035   \n",
       "promotion_last_5years -0.038942     0.021268  ... -0.001531          0.128087   \n",
       "sales_IT               1.000000    -0.070240  ... -0.067949         -0.062500   \n",
       "sales_RandD           -0.070240     1.000000  ... -0.053570         -0.049274   \n",
       "sales_accounting      -0.069293    -0.054629  ... -0.052848         -0.048610   \n",
       "sales_hr              -0.067949    -0.053570  ...  1.000000         -0.047667   \n",
       "sales_management      -0.062500    -0.049274  ... -0.047667          1.000000   \n",
       "sales_marketing       -0.073524    -0.057965  ... -0.056075         -0.051578   \n",
       "sales_product_mng     -0.075503    -0.059525  ... -0.057584         -0.052966   \n",
       "sales_sales           -0.184302    -0.145300  ... -0.140562         -0.129289   \n",
       "sales_support         -0.124705    -0.098315  ... -0.095109         -0.087482   \n",
       "sales_technical       -0.140484    -0.110755  ... -0.107143         -0.098551   \n",
       "salary_high           -0.016089    -0.015115  ... -0.017858          0.209077   \n",
       "salary_low             0.005116    -0.011887  ... -0.015690         -0.084641   \n",
       "salary_medium          0.003775     0.020402  ...  0.025765         -0.030716   \n",
       "\n",
       "                       sales_marketing  sales_product_mng  sales_sales  \\\n",
       "satisfaction_level            0.005715           0.006919     0.004007   \n",
       "last_evaluation              -0.000311          -0.001989    -0.023031   \n",
       "number_project               -0.023064           0.000829    -0.013388   \n",
       "average_montly_hours         -0.008210          -0.005494    -0.001718   \n",
       "time_spend_company            0.012096          -0.003919     0.015150   \n",
       "Work_accident                 0.011367           0.001246    -0.004955   \n",
       "left                         -0.000859          -0.011029     0.009923   \n",
       "promotion_last_5years         0.049253          -0.037288     0.012353   \n",
       "sales_IT                     -0.073524          -0.075503    -0.184302   \n",
       "sales_RandD                  -0.057965          -0.059525    -0.145300   \n",
       "sales_accounting             -0.057183          -0.058723    -0.143341   \n",
       "sales_hr                     -0.056075          -0.057584    -0.140562   \n",
       "sales_management             -0.051578          -0.052966    -0.129289   \n",
       "sales_marketing               1.000000          -0.062308    -0.152093   \n",
       "sales_product_mng            -0.062308           1.000000    -0.156187   \n",
       "sales_sales                  -0.152093          -0.156187     1.000000   \n",
       "sales_support                -0.102911          -0.105682    -0.257967   \n",
       "sales_technical              -0.115933          -0.119054    -0.290608   \n",
       "salary_high                   0.009642          -0.006514    -0.039273   \n",
       "salary_low                   -0.009479           0.006191     0.023766   \n",
       "salary_medium                 0.004213          -0.002632    -0.002174   \n",
       "\n",
       "                       sales_support  sales_technical  salary_high  \\\n",
       "satisfaction_level          0.009185        -0.009345     0.029708   \n",
       "last_evaluation             0.017104         0.013742    -0.020628   \n",
       "number_project              0.000303         0.028596    -0.008726   \n",
       "average_montly_hours       -0.002444         0.013638    -0.007101   \n",
       "time_spend_company         -0.030111        -0.027991     0.039953   \n",
       "Work_accident               0.012079        -0.006070     0.009040   \n",
       "left                        0.010700         0.020076    -0.120929   \n",
       "promotion_last_5years      -0.035605        -0.035799     0.076756   \n",
       "sales_IT                   -0.124705        -0.140484    -0.016089   \n",
       "sales_RandD                -0.098315        -0.110755    -0.015115   \n",
       "sales_accounting           -0.096989        -0.109262     0.011821   \n",
       "sales_hr                   -0.095109        -0.107143    -0.017858   \n",
       "sales_management           -0.087482        -0.098551     0.209077   \n",
       "sales_marketing            -0.102911        -0.115933     0.009642   \n",
       "sales_product_mng          -0.105682        -0.119054    -0.006514   \n",
       "sales_sales                -0.257967        -0.290608    -0.039273   \n",
       "sales_support               1.000000        -0.196636    -0.029184   \n",
       "sales_technical            -0.196636         1.000000    -0.014672   \n",
       "salary_high                -0.029184        -0.014672     1.000000   \n",
       "salary_low                  0.022038         0.015674    -0.292560   \n",
       "salary_medium              -0.006035        -0.007673    -0.260274   \n",
       "\n",
       "                       salary_low  salary_medium  \n",
       "satisfaction_level      -0.047415       0.031367  \n",
       "last_evaluation          0.005221       0.006191  \n",
       "number_project          -0.002504       0.007377  \n",
       "average_montly_hours    -0.001050       0.005007  \n",
       "time_spend_company      -0.040110       0.018299  \n",
       "Work_accident           -0.006813       0.001856  \n",
       "left                     0.134722      -0.068833  \n",
       "promotion_last_5years   -0.082832       0.040985  \n",
       "sales_IT                 0.005116       0.003775  \n",
       "sales_RandD             -0.011887       0.020402  \n",
       "sales_accounting        -0.009759       0.003285  \n",
       "sales_hr                -0.015690       0.025765  \n",
       "sales_management        -0.084641      -0.030716  \n",
       "sales_marketing         -0.009479       0.004213  \n",
       "sales_product_mng        0.006191      -0.002632  \n",
       "sales_sales              0.023766      -0.002174  \n",
       "sales_support            0.022038      -0.006035  \n",
       "sales_technical          0.015674      -0.007673  \n",
       "salary_high             -0.292560      -0.260274  \n",
       "salary_low               1.000000      -0.847144  \n",
       "salary_medium           -0.847144       1.000000  \n",
       "\n",
       "[21 rows x 21 columns]"
      ]
     },
     "metadata": {},
     "output_type": "display_data"
    }
   ],
   "source": [
    "corr = data.corr()\n",
    "display(corr)"
   ]
  },
  {
   "cell_type": "code",
   "execution_count": 10,
   "metadata": {
    "scrolled": false
   },
   "outputs": [
    {
     "data": {
      "image/png": "[encoded data removed]",
      "text/plain": [
       "<Figure size 1152x720 with 2 Axes>"
      ]
     },
     "metadata": {
      "needs_background": "light"
     },
     "output_type": "display_data"
    }
   ],
   "source": [
    "plt.figure(figsize=(16,10))\n",
    "\n",
    "mask = np.zeros_like(corr, dtype=np.bool)\n",
    "mask[np.triu_indices_from(mask)] = True\n",
    "\n",
    "sns.heatmap(corr, mask=mask, cmap=\"YlGnBu\", vmax=.3, center=0,\n",
    "            square=True, linewidths=.7, cbar_kws={\"shrink\": .7})\n",
    "plt.show()"
   ]
  },
  {
   "cell_type": "markdown",
   "metadata": {},
   "source": [
    "Наиболее сильную корреляционную связь имеют переменные number_project и average_montly_hours, что вполне объяснимо: больше проектов - больше времени на работе. Также связь есть (отрицательная корреляция) у left и satisfaction_level, что тоже логично.\n",
    "Также видна связь last_evaluation с number_project и average_montly_hours.\n",
    "\n",
    "Преобразование категориальных переменных в вектора позволило сделать вывод из матрицы корреляции о том, что в \"департаменте\" management - более высокие зарплаты, а низкие зарплаты влияют на пиизнак left"
   ]
  },
  {
   "cell_type": "markdown",
   "metadata": {},
   "source": [
    "# Визуализация взаимосвязей между переменными"
   ]
  },
  {
   "cell_type": "markdown",
   "metadata": {},
   "source": [
    "#  \n",
    "Посмотрим взаимосвязь number_project и average_montly_hours. Поскольку number_project - дискретна, то не информативно строить scatterplot, построим график плотности распределения количества рабочих часов для каждого количества проектов"
   ]
  },
  {
   "cell_type": "code",
   "execution_count": 11,
   "metadata": {
    "scrolled": false
   },
   "outputs": [
    {
     "name": "stderr",
     "output_type": "stream",
     "text": [
      "C:\\ProgramData\\Anaconda3\\lib\\site-packages\\statsmodels\\nonparametric\\kde.py:487: RuntimeWarning: invalid value encountered in true_divide\n",
      "  binned = fast_linbin(X, a, b, gridsize) / (delta * nobs)\n",
      "C:\\ProgramData\\Anaconda3\\lib\\site-packages\\statsmodels\\nonparametric\\kdetools.py:34: RuntimeWarning: invalid value encountered in double_scalars\n",
      "  FAC1 = 2*(np.pi*bw/RANGE)**2\n"
     ]
    },
    {
     "data": {
      "image/png": "[encoded data removed]",
      "text/plain": [
       "<Figure size 446.625x360 with 6 Axes>"
      ]
     },
     "metadata": {
      "needs_background": "light"
     },
     "output_type": "display_data"
    }
   ],
   "source": [
    "data1=data[['average_montly_hours','number_project']]\n",
    "sns.pairplot(data=data1,hue='number_project',plot_kws={'alpha':0.1},palette='hot')\n",
    "plt.show()"
   ]
  },
  {
   "cell_type": "markdown",
   "metadata": {},
   "source": [
    "На графике 1-1 видно, что чем больше проектов, тем правее смещен \"горб\" графика распределения."
   ]
  },
  {
   "cell_type": "markdown",
   "metadata": {},
   "source": [
    "#  \n",
    "Посмотрим взаимосвязь satisfaction_level и time_spend_company.Интерес представляет также отличия этих параметров в зависимости от значения left."
   ]
  },
  {
   "cell_type": "code",
   "execution_count": 12,
   "metadata": {},
   "outputs": [
    {
     "data": {
      "image/png": "[encoded data removed]",
      "text/plain": [
       "<Figure size 720x720 with 1 Axes>"
      ]
     },
     "metadata": {},
     "output_type": "display_data"
    }
   ],
   "source": [
    "sns.set(style=\"darkgrid\")\n",
    "\n",
    "left = data_backup.query(\"left == 1\")\n",
    "standing = data_backup.query(\"left == 0\")\n",
    "\n",
    "f, ax = plt.subplots(figsize=(10, 10))\n",
    "\n",
    "ax = sns.kdeplot(standing.satisfaction_level, standing.time_spend_company,\n",
    "                 cmap=\"Blues\", shade=True, shade_lowest=False)\n",
    "ax = sns.kdeplot(left.satisfaction_level, left.time_spend_company,\n",
    "                 cmap=\"Reds\", shade=True, shade_lowest=False)\n",
    "\n",
    "red = sns.color_palette(\"Reds\")[-2]\n",
    "blue = sns.color_palette(\"Blues\")[-2]\n",
    "ax.text(0.65, 3.5, \"standing\", size=16, color=blue)\n",
    "ax.text(0.37, 3.7, \"left\", size=16, color=red)\n",
    "plt.show()"
   ]
  },
  {
   "cell_type": "markdown",
   "metadata": {},
   "source": [
    "Выводы:\n",
    "1. Наиболее распостраненный срок работы в компании - 3 года\n",
    "2. Уровень удовлетворенности влияет на уход\n",
    "3. Сотрудники с двухлетним стажем либо улучшают свою оценку т.е. их уровень удовлетворенности растет, либо уходят."
   ]
  },
  {
   "cell_type": "markdown",
   "metadata": {},
   "source": [
    "# С использованием t-test статистики проверить взаимосвязи между несколькими переменными"
   ]
  },
  {
   "cell_type": "markdown",
   "metadata": {},
   "source": [
    "#  \n",
    "Проверим, имеется ли различие в выборках сотрудников с низкой зарплатой и всех прочих с точки зрения склонности покинуть компанию. Выборки не имеют нормального распределения, применим критерий Манна-Уитни"
   ]
  },
  {
   "cell_type": "code",
   "execution_count": 13,
   "metadata": {},
   "outputs": [
    {
     "name": "stdout",
     "output_type": "stream",
     "text": [
      "two-sample wilcoxon-test 1.8681201936764805e-61\n"
     ]
    }
   ],
   "source": [
    "left_with_low_salary = data[data['salary_low']==1]['left']\n",
    "left_with_middlehigh_salary = data[data['salary_low']==0]['left']\n",
    "\n",
    "u, p_value = stats.mannwhitneyu(left_with_low_salary, left_with_middlehigh_salary)\n",
    "print(\"two-sample wilcoxon-test\", p_value)"
   ]
  },
  {
   "cell_type": "markdown",
   "metadata": {},
   "source": [
    "pvalue стремится к нулю, то есть различие между выборками есть, сотрудники с низкой зарплатой чаще покидают компанию."
   ]
  },
  {
   "cell_type": "markdown",
   "metadata": {},
   "source": [
    "#  \n",
    "Проверим, влияет ли количество часов, проведенных на работе на появление несчастных случаев"
   ]
  },
  {
   "cell_type": "code",
   "execution_count": 14,
   "metadata": {},
   "outputs": [
    {
     "data": {
      "text/plain": [
       "Ttest_indResult(statistic=-1.2421846964457004, pvalue=0.21418784880707778)"
      ]
     },
     "execution_count": 14,
     "metadata": {},
     "output_type": "execute_result"
    }
   ],
   "source": [
    "work_accidents_Y = data[data['Work_accident']==1]['average_montly_hours']\n",
    "work_accidents_N = data[data['Work_accident']==0]['average_montly_hours']\n",
    "\n",
    "stats.ttest_ind(work_accidents_Y, work_accidents_N)"
   ]
  },
  {
   "cell_type": "markdown",
   "metadata": {},
   "source": [
    "pvalue = 0.21, т.е. гипотезу о различии выборок отклоняем. "
   ]
  },
  {
   "cell_type": "markdown",
   "metadata": {},
   "source": [
    "#  \n",
    "Проверим, есть ли различи между департаментами в части результатов последней оценки"
   ]
  },
  {
   "cell_type": "code",
   "execution_count": 15,
   "metadata": {},
   "outputs": [
    {
     "data": {
      "text/plain": [
       "F_onewayResult(statistic=1.6734194195121965, pvalue=0.08938949853011371)"
      ]
     },
     "execution_count": 15,
     "metadata": {},
     "output_type": "execute_result"
    }
   ],
   "source": [
    "sales_IT_ev=data[data['sales_IT']==1]['last_evaluation']\n",
    "sales_RandD_ev=data[data['sales_RandD']==1]['last_evaluation']\n",
    "sales_accounting_ev=data[data['sales_accounting']==1]['last_evaluation']\n",
    "sales_hr_ev=data[data['sales_hr']==1]['last_evaluation']\n",
    "sales_management_ev=data[data['sales_management']==1]['last_evaluation']\n",
    "sales_marketing_ev=data[data['sales_marketing']==1]['last_evaluation']\n",
    "sales_product_mng_ev=data[data['sales_product_mng']==1]['last_evaluation']\n",
    "sales_sales_ev=data[data['sales_sales']==1]['last_evaluation']\n",
    "sales_support_ev=data[data['sales_support']==1]['last_evaluation']\n",
    "sales_technical_ev=data[data['sales_technical']==1]['last_evaluation']\n",
    "\n",
    "stats.f_oneway(sales_IT_ev,sales_RandD_ev,sales_accounting_ev,sales_hr_ev,sales_management_ev,sales_marketing_ev,\n",
    "               sales_product_mng_ev,sales_sales_ev,sales_support_ev,sales_technical_ev)\n",
    "              \n",
    "               \n"
   ]
  },
  {
   "cell_type": "markdown",
   "metadata": {},
   "source": [
    "Отклоняем гипотезу о различии в переменных."
   ]
  },
  {
   "cell_type": "markdown",
   "metadata": {},
   "source": [
    "# Сколько работников работает в каждом департаменте"
   ]
  },
  {
   "cell_type": "code",
   "execution_count": 16,
   "metadata": {},
   "outputs": [
    {
     "data": {
      "text/plain": [
       "sales\n",
       "sales          3126\n",
       "technical      2023\n",
       "support        1674\n",
       "IT              954\n",
       "product_mng     704\n",
       "RandD           666\n",
       "marketing       655\n",
       "accounting      563\n",
       "management      539\n",
       "hr              524\n",
       "Name: left, dtype: int64"
      ]
     },
     "execution_count": 16,
     "metadata": {},
     "output_type": "execute_result"
    }
   ],
   "source": [
    "department_hr = data_backup[data_backup['left']==0].groupby(['sales']).count()['left']\n",
    "department_hr.sort_values(ascending = False)"
   ]
  },
  {
   "cell_type": "markdown",
   "metadata": {},
   "source": [
    "# Распределение сотрудников по зарплатам"
   ]
  },
  {
   "cell_type": "code",
   "execution_count": 17,
   "metadata": {},
   "outputs": [
    {
     "name": "stdout",
     "output_type": "stream",
     "text": [
      "Распределение зарплат действующих сотрудников\n"
     ]
    },
    {
     "data": {
      "image/png": "[encoded data removed]",
      "text/plain": [
       "<Figure size 432x288 with 1 Axes>"
      ]
     },
     "metadata": {},
     "output_type": "display_data"
    },
    {
     "name": "stdout",
     "output_type": "stream",
     "text": [
      "Распределение зарплат ушедших сотрудников\n"
     ]
    },
    {
     "data": {
      "image/png": "[encoded data removed]",
      "text/plain": [
       "<Figure size 432x288 with 1 Axes>"
      ]
     },
     "metadata": {},
     "output_type": "display_data"
    }
   ],
   "source": [
    "print('Распределение зарплат действующих сотрудников')\n",
    "data_backup[data_backup['left']==0].groupby(['salary']).count()['left'].sort_values(ascending = False).plot.bar()\n",
    "plt.show()\n",
    "\n",
    "print('Распределение зарплат ушедших сотрудников')\n",
    "data_backup[data_backup['left']==1].groupby(['salary']).count()['left'].sort_values(ascending = False).plot.bar()\n",
    "plt.show()"
   ]
  },
  {
   "cell_type": "markdown",
   "metadata": {},
   "source": [
    "# Показать распределение сотрудников по зарплатам совместно с департаментами"
   ]
  },
  {
   "cell_type": "code",
   "execution_count": 18,
   "metadata": {},
   "outputs": [],
   "source": [
    "data_backup['wage'] = data_backup['salary']\n",
    "data_backup.loc[data_backup['salary'] == 'low', 'wage'] = 0\n",
    "data_backup.loc[data_backup['salary'] == 'medium', 'wage'] = 1\n",
    "data_backup.loc[data_backup['salary'] == 'high', 'wage'] = 2"
   ]
  },
  {
   "cell_type": "code",
   "execution_count": 19,
   "metadata": {},
   "outputs": [
    {
     "data": {
      "image/png": "[encoded data removed]",
      "text/plain": [
       "<Figure size 432x288 with 1 Axes>"
      ]
     },
     "metadata": {},
     "output_type": "display_data"
    }
   ],
   "source": [
    "data2 = data_backup[data_backup['left']==0][['wage','sales','left']]\n",
    "data2.groupby(['wage','sales']).count().sort_values(['wage','left']).plot.bar()\n",
    "plt.show()"
   ]
  },
  {
   "cell_type": "markdown",
   "metadata": {},
   "source": [
    "В категориях низкой и средней ЗП распределение сотрудников по департаментам почти идентичное. В группе высоких ЗП management - второе по частоте значение."
   ]
  },
  {
   "cell_type": "markdown",
   "metadata": {},
   "source": [
    "# Сколько сотрудников покинули компанию"
   ]
  },
  {
   "cell_type": "code",
   "execution_count": 20,
   "metadata": {},
   "outputs": [
    {
     "name": "stdout",
     "output_type": "stream",
     "text": [
      "3571 сотрудник(ов) покинул(и) компанию\n"
     ]
    }
   ],
   "source": [
    "print(f\"{data['left'].sum()} сотрудник(ов) покинул(и) компанию\")"
   ]
  },
  {
   "cell_type": "markdown",
   "metadata": {},
   "source": [
    "# Почему сотрудники покидают компанию"
   ]
  },
  {
   "cell_type": "markdown",
   "metadata": {},
   "source": [
    "#   \n",
    "Исследуем наиболее важные атрибуты по значимости влияния на уход. Используем модель рандомных деревьев, т.к. классы (ушедших\\не ушедших) не являются сбалансированными)"
   ]
  },
  {
   "cell_type": "code",
   "execution_count": 21,
   "metadata": {},
   "outputs": [],
   "source": [
    "input_x = data.drop(columns='left')\n",
    "output_y = data['left']"
   ]
  },
  {
   "cell_type": "code",
   "execution_count": 22,
   "metadata": {},
   "outputs": [],
   "source": [
    "from sklearn.model_selection import train_test_split\n",
    "X_train, X_test, y_train, y_test = train_test_split(input_x, output_y, test_size=0.3)"
   ]
  },
  {
   "cell_type": "code",
   "execution_count": 23,
   "metadata": {},
   "outputs": [
    {
     "name": "stderr",
     "output_type": "stream",
     "text": [
      "No handles with labels found to put in legend.\n"
     ]
    },
    {
     "data": {
      "image/png": "[encoded data removed]",
      "text/plain": [
       "<Figure size 720x720 with 1 Axes>"
      ]
     },
     "metadata": {},
     "output_type": "display_data"
    }
   ],
   "source": [
    "from sklearn.ensemble import (RandomForestClassifier, ExtraTreesClassifier,\n",
    "                              AdaBoostClassifier)\n",
    "\n",
    "# создаем модель дерева решений\n",
    "model=RandomForestClassifier(n_estimators=100)\n",
    "\n",
    "# обучаем модель\n",
    "model.fit(X_train,y_train)\n",
    "\n",
    "headers = list(X_train.columns.values)\n",
    "feature_imp = pd.Series(model.feature_importances_,index=headers).sort_values(ascending=False)\n",
    "\n",
    "f, ax = plt.subplots(figsize=(10, 10))\n",
    "sns.barplot(x=feature_imp, y=feature_imp.index)\n",
    "\n",
    "plt.xlabel('Важность атрибутов')\n",
    "plt.ylabel('Атрибуты')\n",
    "plt.title(\"Наиболее важные атрибуты\")\n",
    "plt.legend()\n",
    "plt.show()"
   ]
  },
  {
   "cell_type": "code",
   "execution_count": 24,
   "metadata": {},
   "outputs": [
    {
     "name": "stdout",
     "output_type": "stream",
     "text": [
      "Точность модели: 0.9931111111111111\n"
     ]
    }
   ],
   "source": [
    "print(f\"Точность модели: {model.score(X_test, y_test)}\")"
   ]
  },
  {
   "cell_type": "markdown",
   "metadata": {},
   "source": [
    "Какие можно сделать выводы: \n",
    "1. Очевидно, уровень удовлетворенности - наиболее важный фактор ухода. Но нам пока неизвестны факторы, влияющие на сам уровень удовлетворенности\n",
    "2. Продвижение по карьере (за последние 5 лет) никак не влияет на склонность покинуть компанию\n",
    "3. Принадлежность к департаментам technical, support, sales увеличивает склонность к уходу. Объясняется тем, что это наименее выскооплачиваемые должности (потенциально - начало карьеры, можно было бы проверить при наличии соответсвуещих данных)"
   ]
  },
  {
   "cell_type": "markdown",
   "metadata": {},
   "source": [
    "#   \n",
    "Модель логистической регрессии"
   ]
  },
  {
   "cell_type": "code",
   "execution_count": 25,
   "metadata": {},
   "outputs": [
    {
     "name": "stdout",
     "output_type": "stream",
     "text": [
      "До: всего 14999, ушло 3571\n",
      "После: всего 22856, ушло 11428\n"
     ]
    }
   ],
   "source": [
    "from imblearn.over_sampling import RandomOverSampler\n",
    "from imblearn.under_sampling import RandomUnderSampler\n",
    "import seaborn as sns\n",
    "ros = RandomOverSampler(random_state=0)\n",
    "X = input_x\n",
    "Y = output_y\n",
    "ros.fit(X, Y)\n",
    "X_resampled, y_resampled = ros.fit_sample(X, Y)\n",
    "\n",
    "print(f\"До: всего {len(Y)}, ушло {sum(Y)}\")\n",
    "print(f\"После: всего {len(y_resampled)}, ушло {sum(y_resampled)}\")"
   ]
  },
  {
   "cell_type": "code",
   "execution_count": 26,
   "metadata": {},
   "outputs": [],
   "source": [
    "from sklearn.model_selection import train_test_split\n",
    "X_train,X_test,y_train,y_test = train_test_split(X_resampled,\n",
    "                                                 y_resampled,\n",
    "                                                 test_size = 0.3,#%70 train, 30% test\n",
    "                                                 random_state = 3)"
   ]
  },
  {
   "cell_type": "code",
   "execution_count": 27,
   "metadata": {},
   "outputs": [
    {
     "name": "stdout",
     "output_type": "stream",
     "text": [
      "Точность предсказания модели:  0.7764328423508823\n"
     ]
    },
    {
     "name": "stderr",
     "output_type": "stream",
     "text": [
      "C:\\ProgramData\\Anaconda3\\lib\\site-packages\\sklearn\\linear_model\\logistic.py:432: FutureWarning: Default solver will be changed to 'lbfgs' in 0.22. Specify a solver to silence this warning.\n",
      "  FutureWarning)\n"
     ]
    }
   ],
   "source": [
    "from sklearn.linear_model import LogisticRegression\n",
    "from sklearn.metrics import accuracy_score \n",
    "model = LogisticRegression()\n",
    "model.fit(X_train, y_train)\n",
    "predicted_classes = model.predict(X_test)\n",
    "accuracy = accuracy_score(y_test.flatten(),predicted_classes)\n",
    "print('Точность предсказания модели: ', accuracy)\n",
    "parameters = model.coef_"
   ]
  },
  {
   "cell_type": "markdown",
   "metadata": {},
   "source": [
    "Проверим, как повлияли на точность логистической регресси добавленные ранее вектора one-hot-encoding"
   ]
  },
  {
   "cell_type": "code",
   "execution_count": 28,
   "metadata": {},
   "outputs": [],
   "source": [
    "input_x_cutsales = input_x.drop(columns=['sales_IT', 'sales_RandD', 'sales_accounting',\n",
    "       'sales_hr', 'sales_management', 'sales_marketing', 'sales_product_mng',\n",
    "       'sales_sales', 'sales_support', 'sales_technical'])"
   ]
  },
  {
   "cell_type": "code",
   "execution_count": 29,
   "metadata": {},
   "outputs": [
    {
     "name": "stdout",
     "output_type": "stream",
     "text": [
      "Точность предсказания модели:  0.7749744786349716\n"
     ]
    },
    {
     "name": "stderr",
     "output_type": "stream",
     "text": [
      "C:\\ProgramData\\Anaconda3\\lib\\site-packages\\sklearn\\linear_model\\logistic.py:432: FutureWarning: Default solver will be changed to 'lbfgs' in 0.22. Specify a solver to silence this warning.\n",
      "  FutureWarning)\n"
     ]
    }
   ],
   "source": [
    "ros = RandomOverSampler(random_state=0)\n",
    "X = input_x_cutsales\n",
    "Y = output_y\n",
    "ros.fit(X, Y)\n",
    "X_resampled, y_resampled = ros.fit_sample(X, Y)\n",
    "\n",
    "X_train,X_test,y_train,y_test = train_test_split(X_resampled,\n",
    "                                                 y_resampled,\n",
    "                                                 test_size = 0.3,#%70 train, 30% test\n",
    "                                                 random_state = 3)\n",
    "\n",
    "model = LogisticRegression()\n",
    "model.fit(X_train, y_train)\n",
    "predicted_classes = model.predict(X_test)\n",
    "accuracy = accuracy_score(y_test.flatten(),predicted_classes)\n",
    "print('Точность предсказания модели: ', accuracy)\n",
    "parameters = model.coef_"
   ]
  },
  {
   "cell_type": "code",
   "execution_count": 30,
   "metadata": {},
   "outputs": [],
   "source": [
    "input_x_cutsalary = input_x_cutsales.drop(columns=['salary_high',\n",
    "       'salary_low', 'salary_medium'])"
   ]
  },
  {
   "cell_type": "code",
   "execution_count": 31,
   "metadata": {},
   "outputs": [
    {
     "name": "stderr",
     "output_type": "stream",
     "text": [
      "C:\\ProgramData\\Anaconda3\\lib\\site-packages\\sklearn\\linear_model\\logistic.py:432: FutureWarning: Default solver will be changed to 'lbfgs' in 0.22. Specify a solver to silence this warning.\n",
      "  FutureWarning)\n"
     ]
    },
    {
     "name": "stdout",
     "output_type": "stream",
     "text": [
      "Точность предсказания модели:  0.7595158232463176\n"
     ]
    }
   ],
   "source": [
    "ros = RandomOverSampler(random_state=0)\n",
    "X = input_x_cutsalary\n",
    "Y = output_y\n",
    "ros.fit(X, Y)\n",
    "X_resampled, y_resampled = ros.fit_sample(X, Y)\n",
    "\n",
    "X_train,X_test,y_train,y_test = train_test_split(X_resampled,\n",
    "                                                 y_resampled,\n",
    "                                                 test_size = 0.3,#%70 train, 30% test\n",
    "                                                 random_state = 3)\n",
    "\n",
    "model = LogisticRegression()\n",
    "model.fit(X_train, y_train)\n",
    "predicted_classes = model.predict(X_test)\n",
    "accuracy = accuracy_score(y_test.flatten(),predicted_classes)\n",
    "print('Точность предсказания модели: ', accuracy)\n",
    "parameters = model.coef_"
   ]
  },
  {
   "cell_type": "markdown",
   "metadata": {},
   "source": [
    "Видим, что в без данных о зарплате и департаменте точность модели - 75,9%, Добавление данных зарплате повышает точность до 77,5%, а добавление данных о департаменте почти не влияет на точность - 77,6% "
   ]
  },
  {
   "cell_type": "markdown",
   "metadata": {},
   "source": [
    "#   \n",
    "В качестве эксперимента изменим целевую переменную и построим линейную регрессию от нескольких переменных для предсказания удовлетворенности (полезно использовать для оценки удовлетворенности без проведения опроса сотрудников)"
   ]
  },
  {
   "cell_type": "code",
   "execution_count": 32,
   "metadata": {},
   "outputs": [],
   "source": [
    "from sklearn.linear_model import LinearRegression\n",
    "model = LinearRegression()"
   ]
  },
  {
   "cell_type": "code",
   "execution_count": 33,
   "metadata": {},
   "outputs": [],
   "source": [
    "column_sels = ['last_evaluation', 'number_project',\n",
    "       'average_montly_hours', 'time_spend_company', 'Work_accident',\n",
    "       'promotion_last_5years', 'sales_IT', 'sales_RandD', 'sales_accounting',\n",
    "       'sales_hr', 'sales_management', 'sales_marketing', 'sales_product_mng',\n",
    "       'sales_sales', 'sales_support', 'sales_technical', 'salary_high',\n",
    "       'salary_low', 'salary_medium']\n",
    "x = data.loc[:,column_sels]\n",
    "\n",
    "last_evaluation = x['last_evaluation']\n",
    "average_montly_hours = x['average_montly_hours']\n",
    "promotion_last_5years = x['promotion_last_5years']\n",
    "# sales_hr = x['sales_hr']\n",
    "# sales_sales = x['sales_sales']\n",
    "# salary_low = x['salary_low']\n",
    "number_project = x['number_project']\n",
    "time_spend_company = x['time_spend_company']\n",
    "# sales_IT = x['sales_IT']\n",
    "# sales_management = x['sales_management']\n",
    "# sales_support = x['sales_support']\n",
    "# salary_medium = x['salary_medium']\n",
    "Work_accident = x['Work_accident']\n",
    "# sales_RandD = x['sales_RandD']\n",
    "# sales_marketing = x['sales_marketing']\n",
    "# sales_technical = x['sales_technical']\n",
    "# sales_accounting = x['sales_accounting']\n",
    "# sales_product_mng = x['sales_product_mng']\n",
    "# salary_high = x['salary_high']"
   ]
  },
  {
   "cell_type": "code",
   "execution_count": 34,
   "metadata": {},
   "outputs": [],
   "source": [
    "y = data['satisfaction_level']\n",
    "# x = np.vstack([np.array(last_evaluation),np.array(average_montly_hours),np.array(promotion_last_5years),np.array(sales_hr),\n",
    "#                np.array(sales_sales),np.array(salary_low),np.array(number_project),np.array(time_spend_company),\n",
    "#                np.array(sales_IT),np.array(sales_management),np.array(sales_support),np.array(salary_medium),\n",
    "#                np.array(Work_accident),np.array(sales_RandD),np.array(sales_marketing),np.array(sales_technical),\n",
    "#                np.array(sales_accounting),np.array(sales_product_mng),np.array(salary_high)]).T\n",
    "\n",
    "x = np.vstack([np.array(last_evaluation),np.array(average_montly_hours),np.array(promotion_last_5years),\n",
    "               np.array(number_project),np.array(time_spend_company),np.array(Work_accident)]).T\n",
    "\n",
    "X_train,X_test,y_train,y_test = train_test_split(x,\n",
    "                                                 y,\n",
    "                                                 test_size = 0.3,#%70 train, 30% test\n",
    "                                                 random_state = 3)\n",
    "\n",
    "model = LinearRegression().fit(X_train, y_train)"
   ]
  },
  {
   "cell_type": "code",
   "execution_count": 35,
   "metadata": {},
   "outputs": [
    {
     "data": {
      "text/plain": [
       "0.057756534938083526"
      ]
     },
     "execution_count": 35,
     "metadata": {},
     "output_type": "execute_result"
    }
   ],
   "source": [
    "model.score(X_test, y_test)"
   ]
  },
  {
   "cell_type": "markdown",
   "metadata": {},
   "source": [
    "Точность модели очень низкая, 5-6%, т.е. модель нельзя применять."
   ]
  }
 ],
 "metadata": {
  "kernelspec": {
   "display_name": "Python 3",
   "language": "python",
   "name": "python3"
  },
  "language_info": {
   "codemirror_mode": {
    "name": "ipython",
    "version": 3
   },
   "file_extension": ".py",
   "mimetype": "text/x-python",
   "name": "python",
   "nbconvert_exporter": "python",
   "pygments_lexer": "ipython3",
   "version": "3.7.3"
  }
 },
 "nbformat": 4,
 "nbformat_minor": 2
}
