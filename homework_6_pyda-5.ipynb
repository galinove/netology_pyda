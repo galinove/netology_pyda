{
 "cells": [
  {
   "cell_type": "markdown",
   "metadata": {},
   "source": [
    "# Задание 1\n",
    "Скачайте с сайта https://grouplens.org/datasets/movielens/ датасет любого размера. Определите какому фильму было выставлено больше всего оценок 5.0."
   ]
  },
  {
   "cell_type": "code",
   "execution_count": 1,
   "metadata": {},
   "outputs": [],
   "source": [
    "import pandas as pd\n",
    "data = pd.read_csv('Python_6_pandas_basics/ml-20m/ratings.csv')"
   ]
  },
  {
   "cell_type": "code",
   "execution_count": 2,
   "metadata": {},
   "outputs": [
    {
     "data": {
      "text/plain": [
       "318    0.011004\n",
       "Name: movieId, dtype: float64"
      ]
     },
     "execution_count": 2,
     "metadata": {},
     "output_type": "execute_result"
    }
   ],
   "source": [
    "data.head()\n",
    "# best_movies = data[ data.rating == 5]\n",
    "data[ data.rating == 5]['movieId'].value_counts(normalize=True).head(1)"
   ]
  },
  {
   "cell_type": "markdown",
   "metadata": {},
   "source": [
    "# Задание 2\n",
    "По данным файла power.csv посчитайте суммарное потребление стран Прибалтики (Латвия, Литва и Эстония) категорий 4, 12 и 21 за период с 2005 по 2010 года. Не учитывайте в расчетах отрицательные значения quantity."
   ]
  },
  {
   "cell_type": "code",
   "execution_count": 3,
   "metadata": {},
   "outputs": [
    {
     "data": {
      "text/plain": [
       "240580.0"
      ]
     },
     "execution_count": 3,
     "metadata": {},
     "output_type": "execute_result"
    }
   ],
   "source": [
    "def baltic(country):\n",
    "    if country in ['Lithuania', 'Latvia', 'Estonia']:\n",
    "        return 'baltic'\n",
    "    return 'other'\n",
    "\n",
    "data2 = pd.read_csv('Python_6_pandas_basics/power.csv')\n",
    "data2['baltic'] = data2.country.apply(baltic)\n",
    "data2_filter1 = data2[(data2.quantity >= 0) & \n",
    "                      (data2.baltic == 'baltic') & \n",
    "                      (data2.category.isin([4,12,21])) & \n",
    "                      (data2.year <= 2010) & (data2.year >= 2005)]\n",
    "# data2.head()\n",
    "# data2_filter1.head()\n",
    "data2_filter1.quantity.sum()"
   ]
  },
  {
   "cell_type": "markdown",
   "metadata": {},
   "source": [
    "# Задание 3\n",
    "Выберите страницу любого сайта с табличными данными. Импортируйте таблицы в pandas dataframe.\n",
    "Примеры страниц (необязательно брать именно эти):\n",
    "https://fortrader.org/quotes\n",
    "https://www.finanz.ru/valyuty/v-realnom-vremeni"
   ]
  },
  {
   "cell_type": "code",
   "execution_count": 4,
   "metadata": {},
   "outputs": [
    {
     "data": {
      "text/html": [
       "<div>\n",
       "<style scoped>\n",
       "    .dataframe tbody tr th:only-of-type {\n",
       "        vertical-align: middle;\n",
       "    }\n",
       "\n",
       "    .dataframe tbody tr th {\n",
       "        vertical-align: top;\n",
       "    }\n",
       "\n",
       "    .dataframe thead th {\n",
       "        text-align: right;\n",
       "    }\n",
       "</style>\n",
       "<table border=\"1\" class=\"dataframe\">\n",
       "  <thead>\n",
       "    <tr style=\"text-align: right;\">\n",
       "      <th></th>\n",
       "      <th>№</th>\n",
       "      <th>Оператор</th>\n",
       "      <th>Коды</th>\n",
       "      <th>Всего номеров</th>\n",
       "    </tr>\n",
       "  </thead>\n",
       "  <tbody>\n",
       "    <tr>\n",
       "      <th>1</th>\n",
       "      <td>2</td>\n",
       "      <td>АКОС</td>\n",
       "      <td>902, 950, 952, 994</td>\n",
       "      <td>620 тыс.</td>\n",
       "    </tr>\n",
       "    <tr>\n",
       "      <th>4</th>\n",
       "      <td>5</td>\n",
       "      <td>АПЕКС</td>\n",
       "      <td>901</td>\n",
       "      <td>60 тыс.</td>\n",
       "    </tr>\n",
       "    <tr>\n",
       "      <th>6</th>\n",
       "      <td>7</td>\n",
       "      <td>АСВТ</td>\n",
       "      <td>997</td>\n",
       "      <td>2 млн.</td>\n",
       "    </tr>\n",
       "    <tr>\n",
       "      <th>0</th>\n",
       "      <td>1</td>\n",
       "      <td>Аврора Телеком</td>\n",
       "      <td>958</td>\n",
       "      <td>10300</td>\n",
       "    </tr>\n",
       "    <tr>\n",
       "      <th>2</th>\n",
       "      <td>3</td>\n",
       "      <td>Акционерное общество Севастополь Телеком</td>\n",
       "      <td>978</td>\n",
       "      <td>23 тыс.</td>\n",
       "    </tr>\n",
       "  </tbody>\n",
       "</table>\n",
       "</div>"
      ],
      "text/plain": [
       "   №                                  Оператор                Коды  \\\n",
       "1  2                                      АКОС  902, 950, 952, 994   \n",
       "4  5                                     АПЕКС                 901   \n",
       "6  7                                      АСВТ                 997   \n",
       "0  1                            Аврора Телеком                 958   \n",
       "2  3  Акционерное общество Севастополь Телеком                 978   \n",
       "\n",
       "  Всего номеров  \n",
       "1      620 тыс.  \n",
       "4       60 тыс.  \n",
       "6        2 млн.  \n",
       "0         10300  \n",
       "2       23 тыс.  "
      ]
     },
     "metadata": {},
     "output_type": "display_data"
    },
    {
     "data": {
      "text/html": [
       "<div>\n",
       "<style scoped>\n",
       "    .dataframe tbody tr th:only-of-type {\n",
       "        vertical-align: middle;\n",
       "    }\n",
       "\n",
       "    .dataframe tbody tr th {\n",
       "        vertical-align: top;\n",
       "    }\n",
       "\n",
       "    .dataframe thead tr th {\n",
       "        text-align: left;\n",
       "    }\n",
       "</style>\n",
       "<table border=\"1\" class=\"dataframe\">\n",
       "  <thead>\n",
       "    <tr>\n",
       "      <th></th>\n",
       "      <th>Бренд</th>\n",
       "      <th colspan=\"2\" halign=\"left\">Компания (юридическое лицо)</th>\n",
       "    </tr>\n",
       "    <tr>\n",
       "      <th></th>\n",
       "      <th>Бренд</th>\n",
       "      <th>Полное название</th>\n",
       "      <th>Краткое название</th>\n",
       "    </tr>\n",
       "  </thead>\n",
       "  <tbody>\n",
       "    <tr>\n",
       "      <th>0</th>\n",
       "      <td>Билайн</td>\n",
       "      <td>Публичное акционерное общество «ВымпелКом»</td>\n",
       "      <td>ПАО «ВымпелКом»(входит в группу компаний VEON ...</td>\n",
       "    </tr>\n",
       "    <tr>\n",
       "      <th>1</th>\n",
       "      <td>МТС</td>\n",
       "      <td>Публичное акционерное общество «Мобильные Теле...</td>\n",
       "      <td>ПАО «МТС»</td>\n",
       "    </tr>\n",
       "    <tr>\n",
       "      <th>2</th>\n",
       "      <td>Теле2</td>\n",
       "      <td>Общество с ограниченной ответственностью «Т2 М...</td>\n",
       "      <td>ООО «Т2 Мобайл»</td>\n",
       "    </tr>\n",
       "    <tr>\n",
       "      <th>3</th>\n",
       "      <td>СберМобайл</td>\n",
       "      <td>Общество с ограниченной ответственностью «Сбер...</td>\n",
       "      <td>ООО «Сбербанк-Телеком»</td>\n",
       "    </tr>\n",
       "  </tbody>\n",
       "</table>\n",
       "</div>"
      ],
      "text/plain": [
       "        Бренд                        Компания (юридическое лицо)  \\\n",
       "        Бренд                                    Полное название   \n",
       "0      Билайн         Публичное акционерное общество «ВымпелКом»   \n",
       "1         МТС  Публичное акционерное общество «Мобильные Теле...   \n",
       "2       Теле2  Общество с ограниченной ответственностью «Т2 М...   \n",
       "3  СберМобайл  Общество с ограниченной ответственностью «Сбер...   \n",
       "\n",
       "                                                      \n",
       "                                    Краткое название  \n",
       "0  ПАО «ВымпелКом»(входит в группу компаний VEON ...  \n",
       "1                                          ПАО «МТС»  \n",
       "2                                    ООО «Т2 Мобайл»  \n",
       "3                             ООО «Сбербанк-Телеком»  "
      ]
     },
     "metadata": {},
     "output_type": "display_data"
    }
   ],
   "source": [
    "data_html = pd.read_html('https://codificator.ru/code/mobile/', encoding='utf-8', na_values=['#НД'])\n",
    "\n",
    "for i in range(len(data_html)):\n",
    "    try:\n",
    "        display(data_html[i].sort_values('Оператор').head())\n",
    "        data_codes = data_html[i]\n",
    "    except:\n",
    "        display(data_html[i].head())"
   ]
  },
  {
   "cell_type": "code",
   "execution_count": 5,
   "metadata": {},
   "outputs": [
    {
     "data": {
      "text/html": [
       "<div>\n",
       "<style scoped>\n",
       "    .dataframe tbody tr th:only-of-type {\n",
       "        vertical-align: middle;\n",
       "    }\n",
       "\n",
       "    .dataframe tbody tr th {\n",
       "        vertical-align: top;\n",
       "    }\n",
       "\n",
       "    .dataframe thead th {\n",
       "        text-align: right;\n",
       "    }\n",
       "</style>\n",
       "<table border=\"1\" class=\"dataframe\">\n",
       "  <thead>\n",
       "    <tr style=\"text-align: right;\">\n",
       "      <th></th>\n",
       "      <th>№</th>\n",
       "      <th>Оператор</th>\n",
       "      <th>Коды</th>\n",
       "      <th>Всего номеров</th>\n",
       "    </tr>\n",
       "  </thead>\n",
       "  <tbody>\n",
       "    <tr>\n",
       "      <th>44</th>\n",
       "      <td>45</td>\n",
       "      <td>МТС</td>\n",
       "      <td>901, 902, 904, 908, 910, 911, 912, 913, 914, 9...</td>\n",
       "      <td>171 млн.</td>\n",
       "    </tr>\n",
       "    <tr>\n",
       "      <th>53</th>\n",
       "      <td>54</td>\n",
       "      <td>Ростелеком</td>\n",
       "      <td>901, 902, 912, 930, 939, 955, 958, 970, 971, 9...</td>\n",
       "      <td>7 млн.</td>\n",
       "    </tr>\n",
       "  </tbody>\n",
       "</table>\n",
       "</div>"
      ],
      "text/plain": [
       "     №    Оператор                                               Коды  \\\n",
       "44  45         МТС  901, 902, 904, 908, 910, 911, 912, 913, 914, 9...   \n",
       "53  54  Ростелеком  901, 902, 912, 930, 939, 955, 958, 970, 971, 9...   \n",
       "\n",
       "   Всего номеров  \n",
       "44      171 млн.  \n",
       "53        7 млн.  "
      ]
     },
     "execution_count": 5,
     "metadata": {},
     "output_type": "execute_result"
    }
   ],
   "source": [
    "def find_operator(data, code):\n",
    "    return data[data['Коды'].str.contains(code)]\n",
    "    \n",
    "find_operator(data_codes, '912')"
   ]
  }
 ],
 "metadata": {
  "kernelspec": {
   "display_name": "Python 3",
   "language": "python",
   "name": "python3"
  },
  "language_info": {
   "codemirror_mode": {
    "name": "ipython",
    "version": 3
   },
   "file_extension": ".py",
   "mimetype": "text/x-python",
   "name": "python",
   "nbconvert_exporter": "python",
   "pygments_lexer": "ipython3",
   "version": "3.7.3"
  }
 },
 "nbformat": 4,
 "nbformat_minor": 2
}
