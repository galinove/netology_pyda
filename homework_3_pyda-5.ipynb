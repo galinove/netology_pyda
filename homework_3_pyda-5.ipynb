{
 "cells": [
  {
   "cell_type": "markdown",
   "metadata": {},
   "source": [
    "## Задание 1"
   ]
  },
  {
   "cell_type": "markdown",
   "metadata": {},
   "source": [
    "Дан список вида:"
   ]
  },
  {
   "cell_type": "code",
   "execution_count": 1,
   "metadata": {},
   "outputs": [],
   "source": [
    "data = [\n",
    "    [13, 25, 23, 34],\n",
    "    [45, 32, 44, 47],\n",
    "    [12, 33, 23, 95],\n",
    "    [13, 53, 34, 35]\n",
    "]"
   ]
  },
  {
   "cell_type": "markdown",
   "metadata": {},
   "source": [
    "Напишите функцию, которая возвращает сумму элементов на диагонали. Т. е. 13+32+23+35."
   ]
  },
  {
   "cell_type": "code",
   "execution_count": 2,
   "metadata": {},
   "outputs": [
    {
     "name": "stdout",
     "output_type": "stream",
     "text": [
      "103\n"
     ]
    }
   ],
   "source": [
    "def list_diag_sum(list):\n",
    "    result=0\n",
    "    for i in range(len(data)):\n",
    "        result+=data[i][i]            \n",
    "    return result\n",
    "print(list_diag_sum(data))"
   ]
  },
  {
   "cell_type": "markdown",
   "metadata": {},
   "source": [
    "## Задание 2"
   ]
  },
  {
   "cell_type": "markdown",
   "metadata": {},
   "source": [
    "Дан список чисел, часть из которых имеют строковый тип или содержат буквы. Напишите функцию, которая возвращает сумму квадратов элементов, которые могут быть числами."
   ]
  },
  {
   "cell_type": "code",
   "execution_count": 3,
   "metadata": {},
   "outputs": [],
   "source": [
    "data = [1, '5', 'abc', 20, '2']"
   ]
  },
  {
   "cell_type": "code",
   "execution_count": 4,
   "metadata": {},
   "outputs": [
    {
     "name": "stdout",
     "output_type": "stream",
     "text": [
      "430\n",
      "1\n"
     ]
    }
   ],
   "source": [
    "def sum_square(list):\n",
    "    \"\"\"\n",
    "    результатом функции является список с 2-мя значениями: 1-е - сумма всех \"квазичисел\", второе - количество элементов, \n",
    "    преобразование которых к числе было неуспешным\n",
    "    \"\"\"\n",
    "    sum=[0,0]\n",
    "    badvalues=0\n",
    "    for element in list:\n",
    "        try:\n",
    "            sum[0]+=int(element)**2\n",
    "        except:\n",
    "            sum[1]+=1\n",
    "    return sum\n",
    "print(sum_square(data)[0])\n",
    "print(sum_square(data)[1])"
   ]
  },
  {
   "cell_type": "markdown",
   "metadata": {},
   "source": [
    "## Задание 3"
   ]
  },
  {
   "cell_type": "markdown",
   "metadata": {},
   "source": [
    "Напишите функцию, возвращающую сумму первых n чисел Фибоначчи."
   ]
  },
  {
   "cell_type": "code",
   "execution_count": 5,
   "metadata": {},
   "outputs": [
    {
     "name": "stdout",
     "output_type": "stream",
     "text": [
      "88\n"
     ]
    }
   ],
   "source": [
    "def fibonacci_frame_sum(start, N):\n",
    "    \"\"\"\n",
    "    функция принимает на вход номер числа и количество чисел из ряда Фибоначчи, которые необходимо просуммировать\n",
    "    \"\"\"\n",
    "    if start>=1 and N>=1:\n",
    "        result=0\n",
    "        row=[0]\n",
    "        if start+N>1:\n",
    "            row.append(1)\n",
    "        for i in range(2,start+N):\n",
    "            row.append(row[i-1]+row[i-2]) \n",
    "        for i in range (start,start+N):\n",
    "            result=result+row[i-1] \n",
    "        return result\n",
    "    else:\n",
    "        return('Начальный индекс интервала и количество чисел для суммирования должны быть не менее 1')\n",
    "print(fibonacci_frame_sum(1, 10))"
   ]
  },
  {
   "cell_type": "markdown",
   "metadata": {},
   "source": [
    "## Задание 4"
   ]
  },
  {
   "cell_type": "markdown",
   "metadata": {},
   "source": [
    "Дан набор данных об обучении студентов на курсе программирования, который содержит: \n",
    "1) имя\n",
    "2) фамилию \n",
    "3) пол \n",
    "4) наличие у студента опыта в программировании \n",
    "5) набор оценок за домашние работы \n",
    "6) оценку за итоговую работу.\n",
    "\n",
    "Напишите программу, которая будет принимать команду от пользователя и возвращать соотвествующий результат.\n",
    "Список команд: \n",
    "1 - вывести на экран среднюю оценку за все ДЗ по группе и вывести на экран среднюю оценку за экзамен по группе;\n",
    "2 - вывести среднюю оценку за ДЗ и за экзамен по группе в разрезе пола студентов\n",
    "3 - вывести среднюю оценку за ДЗ и за экзамен в разрезе наличия опыта в программировании у студентов.\n",
    "\n",
    "Прогрмма должна быть полностью декомпозирована на функции (кроме объявления функций и вызова итоговой функции в реализации ничего быть не должно)."
   ]
  },
  {
   "cell_type": "code",
   "execution_count": 6,
   "metadata": {},
   "outputs": [],
   "source": [
    "students_list = [\n",
    "    {'name': 'Василий', 'surname': 'Теркин', 'sex': 'м', 'program_exp': True, 'grade': [8, 8, 9, 10, 9], 'exam': 9},\n",
    "    {'name': 'Мария', 'surname': 'Павлова', 'sex': 'ж', 'program_exp': True, 'grade': [7, 8, 9, 7, 9], 'exam': 8},\n",
    "    {'name': 'Ирина', 'surname': 'Андреева', 'sex': 'ж', 'program_exp': True, 'grade': [10, 9, 8, 10, 10], 'exam': 10},\n",
    "    {'name': 'Татьяна', 'surname': 'Сидорова', 'sex': 'ж', 'program_exp': True, 'grade': [7, 8, 8, 9, 8], 'exam': 8},\n",
    "    {'name': 'Иван', 'surname': 'Васильев', 'sex': 'м', 'program_exp': True, 'grade': [9, 8, 9, 6, 9], 'exam': 10},\n",
    "    {'name': 'Роман', 'surname': 'Золотарев', 'sex': 'м', 'program_exp': False, 'grade': [8, 9, 9, 6, 9], 'exam': 10}\n",
    "]"
   ]
  },
  {
   "cell_type": "code",
   "execution_count": 7,
   "metadata": {},
   "outputs": [
    {
     "name": "stdout",
     "output_type": "stream",
     "text": [
      "1 - средняя оценка за все ДЗ по группе и вывести на экран средняя оценку за экзамен по группе\n",
      "2 - средняя оценка за ДЗ и за экзамен по группе в разрезе пола студентов\n",
      "3 - средняя оценка за ДЗ и за экзамен в разрезе наличия опыта в программировании у студентов\n",
      "\n",
      " Введите параметр \n",
      "\n",
      "3\n",
      "False\n",
      "{'exam average': 10.0, 'homework average': 8.2}\n",
      "True\n",
      "{'exam average': 9.0, 'homework average': 8.48}\n"
     ]
    }
   ],
   "source": [
    "def list_avg(list):\n",
    "    return round(sum(list)/len(list),2)\n",
    "\n",
    "def f_print(dict):\n",
    "    for param, avg in dict.items():\n",
    "        print(param, avg, sep='\\n')\n",
    "\n",
    "def marks_avg(list):\n",
    "    marks={}\n",
    "    exam_list=[]\n",
    "    hw_list=[]\n",
    "    for dict in list:\n",
    "        exam_list.append(dict['exam'])\n",
    "        hw_list.append(list_avg(dict['grade']))\n",
    "    marks['exam average']=list_avg(exam_list)\n",
    "    marks['homework average']=list_avg(hw_list)\n",
    "    return marks\n",
    "\n",
    "def param_grade(list,key=0):\n",
    "    if key!=0:\n",
    "        result={}\n",
    "        strat_list={}\n",
    "        param_list=[]\n",
    "        for dict in list:\n",
    "            param_list.append(dict[key]) \n",
    "        for param in set(param_list):\n",
    "    #       внутри этого цикла для каждого уникального параметра должен создаваться элемент словаря, и этот список дополняться.\n",
    "    #       использовать два одинаковых цикла не круто, а внутри одного не работает: без объявления элемента словаря списком\n",
    "    #       не работает append, а с объявлением в одном цикле, очевидно, каждую итерацию список обнуляется\n",
    "            for dict in list:\n",
    "                if dict[key]==param:\n",
    "                    strat_list[param]=[]\n",
    "            for dict in list:\n",
    "                if dict[key]==param:\n",
    "                    strat_list[param].append(dict)\n",
    "        for key in strat_list.keys():\n",
    "            result[key]=marks_avg(strat_list[key])\n",
    "    else:\n",
    "        result=marks_avg(list)\n",
    "    return result\n",
    "\n",
    "def user_key_request(list):\n",
    "    print('1 - средняя оценка за все ДЗ по группе и вывести на экран средняя оценку за экзамен по группе')\n",
    "    print('2 - средняя оценка за ДЗ и за экзамен по группе в разрезе пола студентов')\n",
    "    print('3 - средняя оценка за ДЗ и за экзамен в разрезе наличия опыта в программировании у студентов')\n",
    "    print('\\n','Введите параметр','\\n')\n",
    "    code = int(input())\n",
    "    if code == 1:\n",
    "        f_print(param_grade(list))\n",
    "    elif code == 2:\n",
    "        f_print(param_grade(list,'sex'))\n",
    "    elif code == 3:\n",
    "        f_print(param_grade(list,'program_exp'))\n",
    "    else:\n",
    "        f_print(param_grade(list,'surname'))\n",
    "        \n",
    "user_key_request(students_list)"
   ]
  }
 ],
 "metadata": {
  "kernelspec": {
   "display_name": "Python 3",
   "language": "python",
   "name": "python3"
  },
  "language_info": {
   "codemirror_mode": {
    "name": "ipython",
    "version": 3
   },
   "file_extension": ".py",
   "mimetype": "text/x-python",
   "name": "python",
   "nbconvert_exporter": "python",
   "pygments_lexer": "ipython3",
   "version": "3.7.3"
  }
 },
 "nbformat": 4,
 "nbformat_minor": 2
}
